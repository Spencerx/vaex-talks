{
 "cells": [
  {
   "cell_type": "markdown",
   "id": "069578de",
   "metadata": {},
   "source": [
    "![Drag Racing](logo.png)\n",
    "\n",
    "# `vaex` @ PyData Global 2022\n",
    "\n",
    "# Vaex: the perfect DataFrame library for Python data apps\n",
    "\n",
    "About the data used in this demo: [The GDELT project](https://www.gdeltproject.org/)."
   ]
  },
  {
   "cell_type": "code",
   "execution_count": 1,
   "id": "cc2b3bc3",
   "metadata": {
    "ExecuteTime": {
     "end_time": "2022-12-02T19:38:25.562848Z",
     "start_time": "2022-12-02T19:38:24.811884Z"
    }
   },
   "outputs": [],
   "source": [
    "import vaex\n",
    "\n",
    "import matplotlib.pyplot as plt\n",
    "\n",
    "import warnings\n",
    "warnings.simplefilter('ignore')"
   ]
  },
  {
   "cell_type": "markdown",
   "id": "8f17115e",
   "metadata": {},
   "source": [
    "## Main concepts of `vaex`\n",
    "\n",
    "- memory mappable storage\n",
    "- shallow copies\n",
    "- expression system:\n",
    "  - delayed (a.k.a lazy) evaluations\n",
    "  - efficient algorithms\n",
    "- emphasis on aggregate data properties instead of individual sampels"
   ]
  },
  {
   "cell_type": "markdown",
   "id": "c0052681",
   "metadata": {},
   "source": [
    "### Memory mappage storage (read in the data)"
   ]
  },
  {
   "cell_type": "code",
   "execution_count": 2,
   "id": "37e571ff",
   "metadata": {
    "ExecuteTime": {
     "end_time": "2022-12-02T19:38:32.220448Z",
     "start_time": "2022-12-02T19:38:32.103023Z"
    }
   },
   "outputs": [
    {
     "name": "stdout",
     "output_type": "stream",
     "text": [
      "347G\t/data/jovan/data/gdelt/Events/Events.hdf5\r\n"
     ]
    }
   ],
   "source": [
    "# Check the file size on disk\n",
    "!du -h /data/jovan/data/gdelt/Events/Events.hdf5"
   ]
  },
  {
   "cell_type": "code",
   "execution_count": 5,
   "id": "6ee3ec25",
   "metadata": {
    "ExecuteTime": {
     "end_time": "2022-12-02T19:38:47.884011Z",
     "start_time": "2022-12-02T19:38:47.845711Z"
    }
   },
   "outputs": [
    {
     "name": "stdout",
     "output_type": "stream",
     "text": [
      "Number of rows:    626,002,275\n",
      "Number of columns: 61\n"
     ]
    }
   ],
   "source": [
    "# Open the data in HDF5 format\n",
    "df = vaex.open('/data/jovan/data/gdelt/Events/Events.hdf5')\n",
    "\n",
    "print(f'Number of rows:    {df.shape[0]:,}')\n",
    "print(f'Number of columns: {df.shape[1]:,}')"
   ]
  },
  {
   "cell_type": "code",
   "execution_count": 8,
   "id": "4421b831",
   "metadata": {
    "ExecuteTime": {
     "end_time": "2022-12-02T19:39:03.771968Z",
     "start_time": "2022-12-02T19:39:03.739398Z"
    }
   },
   "outputs": [
    {
     "data": {
      "text/html": [
       "<table>\n",
       "<thead>\n",
       "<tr><th>#                                      </th><th>GLOBALEVENTID  </th><th>SQLDATE  </th><th>MonthYear  </th><th>Year  </th><th>FractionDate  </th><th>Actor1Code  </th><th>Actor1Name  </th><th>Actor1CountryCode  </th><th>Actor1KnownGroupCode  </th><th>Actor1EthnicCode  </th><th>Actor1Religion1Code  </th><th>Actor1Religion2Code  </th><th>Actor1Type1Code  </th><th>Actor1Type2Code  </th><th>Actor1Type3Code  </th><th>Actor2Code  </th><th>Actor2Name  </th><th>Actor2CountryCode  </th><th>Actor2KnownGroupCode  </th><th>Actor2EthnicCode  </th><th>Actor2Religion1Code  </th><th>Actor2Religion2Code  </th><th>Actor2Type1Code  </th><th>Actor2Type2Code  </th><th>Actor2Type3Code  </th><th>IsRootEvent  </th><th>EventCode  </th><th>EventBaseCode  </th><th>EventRootCode  </th><th>QuadClass  </th><th>GoldsteinScale  </th><th>NumMentions  </th><th>NumSources  </th><th>NumArticles  </th><th>AvgTone          </th><th>Actor1Geo_Type  </th><th>Actor1Geo_FullName  </th><th>Actor1Geo_CountryCode  </th><th>Actor1Geo_ADM1Code  </th><th>Actor1Geo_ADM2Code  </th><th>Actor1Geo_Lat  </th><th>Actor1Geo_Long  </th><th>Actor1Geo_FeatureID  </th><th>Actor2Geo_Type  </th><th>Actor2Geo_FullName            </th><th>Actor2Geo_CountryCode  </th><th>Actor2Geo_ADM1Code  </th><th>Actor2Geo_ADM2Code  </th><th>Actor2Geo_Lat  </th><th>Actor2Geo_Long  </th><th>Actor2Geo_FeatureID  </th><th>ActionGeo_Type  </th><th>ActionGeo_FullName  </th><th>ActionGeo_CountryCode  </th><th>ActionGeo_ADM1Code  </th><th>ActionGeo_ADM2Code  </th><th>ActionGeo_Lat  </th><th>ActionGeo_Long  </th><th>ActionGeo_FeatureID  </th><th>DATEADDED     </th><th>SOURCEURL                                          </th></tr>\n",
       "</thead>\n",
       "<tbody>\n",
       "<tr><td><i style='opacity: 0.6'>0</i>          </td><td>1037356467     </td><td>20220401 </td><td>202204     </td><td>2022  </td><td>2022.2493     </td><td>COPGOV      </td><td>POLICE      </td><td>--                 </td><td>--                    </td><td>--                </td><td>--                   </td><td>--                   </td><td>COP              </td><td>GOV              </td><td>--               </td><td>MEX         </td><td>OAXACA      </td><td>MEX                </td><td>--                    </td><td>--                </td><td>--                   </td><td>--                   </td><td>--               </td><td>--               </td><td>--               </td><td>1            </td><td>173        </td><td>173            </td><td>17             </td><td>4          </td><td>-5.0            </td><td>10           </td><td>1           </td><td>10           </td><td>-4.50450450450451</td><td>0               </td><td>--                  </td><td>--                     </td><td>--                  </td><td>--                  </td><td>nan            </td><td>nan             </td><td>--                   </td><td>0               </td><td>--                            </td><td>--                     </td><td>--                  </td><td>--                  </td><td>nan            </td><td>nan             </td><td>--                   </td><td>0               </td><td>--                  </td><td>--                     </td><td>--                  </td><td>--                  </td><td>nan            </td><td>nan             </td><td>--                   </td><td>20220402133000</td><td>&#x27;https://imparcialoaxaca.mx/policiaca/640606/cae...</td></tr>\n",
       "<tr><td><i style='opacity: 0.6'>1</i>          </td><td>1037356550     </td><td>20220402 </td><td>202204     </td><td>2022  </td><td>2022.2521     </td><td>BUS         </td><td>COMPANY     </td><td>--                 </td><td>--                    </td><td>--                </td><td>--                   </td><td>--                   </td><td>BUS              </td><td>--               </td><td>--               </td><td>--          </td><td>--          </td><td>--                 </td><td>--                    </td><td>--                </td><td>--                   </td><td>--                   </td><td>--               </td><td>--               </td><td>--               </td><td>1            </td><td>141        </td><td>141            </td><td>14             </td><td>3          </td><td>-6.5            </td><td>10           </td><td>1           </td><td>10           </td><td>-2.71028037383177</td><td>0               </td><td>--                  </td><td>--                     </td><td>--                  </td><td>--                  </td><td>nan            </td><td>nan             </td><td>--                   </td><td>0               </td><td>--                            </td><td>--                     </td><td>--                  </td><td>--                  </td><td>nan            </td><td>nan             </td><td>--                   </td><td>0               </td><td>--                  </td><td>--                     </td><td>--                  </td><td>--                  </td><td>nan            </td><td>nan             </td><td>--                   </td><td>20220402133000</td><td>&#x27;https://www.lavozdegalicia.es/noticia/coruna/20...</td></tr>\n",
       "<tr><td><i style='opacity: 0.6'>2</i>          </td><td>1037356555     </td><td>20220402 </td><td>202204     </td><td>2022  </td><td>2022.2521     </td><td>BUS         </td><td>COMPANIES   </td><td>--                 </td><td>--                    </td><td>--                </td><td>--                   </td><td>--                   </td><td>BUS              </td><td>--               </td><td>--               </td><td>GOV         </td><td>GOVERNMENT  </td><td>--                 </td><td>--                    </td><td>--                </td><td>--                   </td><td>--                   </td><td>GOV              </td><td>--               </td><td>--               </td><td>1            </td><td>070        </td><td>070            </td><td>07             </td><td>2          </td><td>7.0             </td><td>10           </td><td>1           </td><td>10           </td><td>0.0              </td><td>0               </td><td>--                  </td><td>--                     </td><td>--                  </td><td>--                  </td><td>nan            </td><td>nan             </td><td>--                   </td><td>0               </td><td>--                            </td><td>--                     </td><td>--                  </td><td>--                  </td><td>nan            </td><td>nan             </td><td>--                   </td><td>0               </td><td>--                  </td><td>--                     </td><td>--                  </td><td>--                  </td><td>nan            </td><td>nan             </td><td>--                   </td><td>20220402133000</td><td>&#x27;https://www.sudinfo.be/id454049/article/2022-04...</td></tr>\n",
       "<tr><td><i style='opacity: 0.6'>3</i>          </td><td>1037356557     </td><td>20220402 </td><td>202204     </td><td>2022  </td><td>2022.2521     </td><td>BUS         </td><td>TRADER      </td><td>--                 </td><td>--                    </td><td>--                </td><td>--                   </td><td>--                   </td><td>BUS              </td><td>--               </td><td>--               </td><td>MEX         </td><td>MEXICAN     </td><td>MEX                </td><td>--                    </td><td>--                </td><td>--                   </td><td>--                   </td><td>--               </td><td>--               </td><td>--               </td><td>1            </td><td>060        </td><td>060            </td><td>06             </td><td>2          </td><td>6.0             </td><td>10           </td><td>1           </td><td>10           </td><td>-3.44827586206897</td><td>0               </td><td>--                  </td><td>--                     </td><td>--                  </td><td>--                  </td><td>nan            </td><td>nan             </td><td>--                   </td><td>0               </td><td>--                            </td><td>--                     </td><td>--                  </td><td>--                  </td><td>nan            </td><td>nan             </td><td>--                   </td><td>0               </td><td>--                  </td><td>--                     </td><td>--                  </td><td>--                  </td><td>nan            </td><td>nan             </td><td>--                   </td><td>20220402133000</td><td>&#x27;https://imparcialoaxaca.mx/policiaca/640608/mot...</td></tr>\n",
       "<tr><td><i style='opacity: 0.6'>4</i>          </td><td>1037356558     </td><td>20220402 </td><td>202204     </td><td>2022  </td><td>2022.2521     </td><td>BUS         </td><td>TRADER      </td><td>--                 </td><td>--                    </td><td>--                </td><td>--                   </td><td>--                   </td><td>BUS              </td><td>--               </td><td>--               </td><td>NGOHLHIRC   </td><td>ICRC        </td><td>--                 </td><td>IRC                   </td><td>--                </td><td>--                   </td><td>--                   </td><td>NGO              </td><td>HLH              </td><td>--               </td><td>1            </td><td>020        </td><td>020            </td><td>02             </td><td>1          </td><td>3.0             </td><td>10           </td><td>1           </td><td>10           </td><td>-3.44827586206897</td><td>0               </td><td>--                  </td><td>--                     </td><td>--                  </td><td>--                  </td><td>nan            </td><td>nan             </td><td>--                   </td><td>0               </td><td>--                            </td><td>--                     </td><td>--                  </td><td>--                  </td><td>nan            </td><td>nan             </td><td>--                   </td><td>0               </td><td>--                  </td><td>--                     </td><td>--                  </td><td>--                  </td><td>nan            </td><td>nan             </td><td>--                   </td><td>20220402133000</td><td>&#x27;https://imparcialoaxaca.mx/policiaca/640608/mot...</td></tr>\n",
       "<tr><td>...                                    </td><td>...            </td><td>...      </td><td>...        </td><td>...   </td><td>...           </td><td>...         </td><td>...         </td><td>...                </td><td>...                   </td><td>...               </td><td>...                  </td><td>...                  </td><td>...              </td><td>...              </td><td>...              </td><td>...         </td><td>...         </td><td>...                </td><td>...                   </td><td>...               </td><td>...                  </td><td>...                  </td><td>...              </td><td>...              </td><td>...              </td><td>...          </td><td>...        </td><td>...            </td><td>...            </td><td>...        </td><td>...             </td><td>...          </td><td>...         </td><td>...          </td><td>...              </td><td>...             </td><td>...                 </td><td>...                    </td><td>...                 </td><td>...                 </td><td>...            </td><td>...             </td><td>...                  </td><td>...             </td><td>...                           </td><td>...                    </td><td>...                 </td><td>...                 </td><td>...            </td><td>...             </td><td>...                  </td><td>...             </td><td>...                 </td><td>...                    </td><td>...                 </td><td>...                 </td><td>...            </td><td>...             </td><td>...                  </td><td>...           </td><td>...                                                </td></tr>\n",
       "<tr><td><i style='opacity: 0.6'>626,002,270</i></td><td>1037360336     </td><td>20220402 </td><td>202204     </td><td>2022  </td><td>2022.2521     </td><td>SAU         </td><td>SAUDI ARABIA</td><td>SAU                </td><td>--                    </td><td>--                </td><td>--                   </td><td>--                   </td><td>--               </td><td>--               </td><td>--               </td><td>EGY         </td><td>EGYPT       </td><td>EGY                </td><td>--                    </td><td>--                </td><td>--                   </td><td>--                   </td><td>--               </td><td>--               </td><td>--               </td><td>1            </td><td>051        </td><td>051            </td><td>05             </td><td>1          </td><td>3.4             </td><td>2            </td><td>1           </td><td>2            </td><td>0.57142857142858 </td><td>1               </td><td>Saudi Arabia        </td><td>SA                     </td><td>SA                  </td><td>--                  </td><td>25.0           </td><td>45.0            </td><td>SA                   </td><td>4               </td><td>Arab League, Al Qahirah, Egypt</td><td>EG                     </td><td>EG11                </td><td>65350               </td><td>30.0445        </td><td>31.2332         </td><td>11230301             </td><td>4               </td><td>Marib, Ma&#x27;rib, Yemen</td><td>YM                     </td><td>YM14                </td><td>145032              </td><td>15.461         </td><td>45.3253         </td><td>10642624             </td><td>20220402141500</td><td>http://bwabtk.com/890131.html                      </td></tr>\n",
       "<tr><td><i style='opacity: 0.6'>626,002,271</i></td><td>1037360337     </td><td>20220402 </td><td>202204     </td><td>2022  </td><td>2022.2521     </td><td>SAU         </td><td>SAUDI ARABIA</td><td>SAU                </td><td>--                    </td><td>--                </td><td>--                   </td><td>--                   </td><td>--               </td><td>--               </td><td>--               </td><td>EGY         </td><td>EGYPT       </td><td>EGY                </td><td>--                    </td><td>--                </td><td>--                   </td><td>--                   </td><td>--               </td><td>--               </td><td>--               </td><td>0            </td><td>080        </td><td>080            </td><td>08             </td><td>2          </td><td>5.0             </td><td>2            </td><td>1           </td><td>2            </td><td>0.57142857142858 </td><td>1               </td><td>Saudi Arabia        </td><td>SA                     </td><td>SA                  </td><td>--                  </td><td>25.0           </td><td>45.0            </td><td>SA                   </td><td>4               </td><td>Arab League, Al Qahirah, Egypt</td><td>EG                     </td><td>EG11                </td><td>65350               </td><td>30.0445        </td><td>31.2332         </td><td>11230301             </td><td>1               </td><td>Saudi Arabia        </td><td>SA                     </td><td>SA                  </td><td>--                  </td><td>25.0           </td><td>45.0            </td><td>SA                   </td><td>20220402141500</td><td>http://bwabtk.com/890131.html                      </td></tr>\n",
       "<tr><td><i style='opacity: 0.6'>626,002,272</i></td><td>1037360339     </td><td>20220402 </td><td>202204     </td><td>2022  </td><td>2022.2521     </td><td>SAU         </td><td>SAUDI ARABIA</td><td>SAU                </td><td>--                    </td><td>--                </td><td>--                   </td><td>--                   </td><td>--               </td><td>--               </td><td>--               </td><td>IGOMEAARL   </td><td>ARAB LEAGUE </td><td>MEA                </td><td>ARL                   </td><td>--                </td><td>--                   </td><td>--                   </td><td>IGO              </td><td>--               </td><td>--               </td><td>1            </td><td>051        </td><td>051            </td><td>05             </td><td>1          </td><td>3.4             </td><td>4            </td><td>1           </td><td>4            </td><td>0.57142857142858 </td><td>1               </td><td>Saudi Arabia        </td><td>SA                     </td><td>SA                  </td><td>--                  </td><td>25.0           </td><td>45.0            </td><td>SA                   </td><td>4               </td><td>Arab League, Al Qahirah, Egypt</td><td>EG                     </td><td>EG11                </td><td>65350               </td><td>30.0445        </td><td>31.2332         </td><td>11230301             </td><td>4               </td><td>Marib, Ma&#x27;rib, Yemen</td><td>YM                     </td><td>YM14                </td><td>145032              </td><td>15.461         </td><td>45.3253         </td><td>10642624             </td><td>20220402141500</td><td>http://bwabtk.com/890131.html                      </td></tr>\n",
       "<tr><td><i style='opacity: 0.6'>626,002,273</i></td><td>1037360340     </td><td>20220402 </td><td>202204     </td><td>2022  </td><td>2022.2521     </td><td>SAU         </td><td>SAUDI ARABIA</td><td>SAU                </td><td>--                    </td><td>--                </td><td>--                   </td><td>--                   </td><td>--               </td><td>--               </td><td>--               </td><td>IGOMEAARL   </td><td>ARAB LEAGUE </td><td>MEA                </td><td>ARL                   </td><td>--                </td><td>--                   </td><td>--                   </td><td>IGO              </td><td>--               </td><td>--               </td><td>0            </td><td>080        </td><td>080            </td><td>08             </td><td>2          </td><td>5.0             </td><td>6            </td><td>1           </td><td>6            </td><td>0.57142857142858 </td><td>1               </td><td>Saudi Arabia        </td><td>SA                     </td><td>SA                  </td><td>--                  </td><td>25.0           </td><td>45.0            </td><td>SA                   </td><td>4               </td><td>Arab League, Al Qahirah, Egypt</td><td>EG                     </td><td>EG11                </td><td>65350               </td><td>30.0445        </td><td>31.2332         </td><td>11230301             </td><td>1               </td><td>Saudi Arabia        </td><td>SA                     </td><td>SA                  </td><td>--                  </td><td>25.0           </td><td>45.0            </td><td>SA                   </td><td>20220402141500</td><td>http://bwabtk.com/890131.html                      </td></tr>\n",
       "<tr><td><i style='opacity: 0.6'>626,002,274</i></td><td>1037360342     </td><td>20220402 </td><td>202204     </td><td>2022  </td><td>2022.2521     </td><td>SAU         </td><td>SAUDI ARABIA</td><td>SAU                </td><td>--                    </td><td>--                </td><td>--                   </td><td>--                   </td><td>--               </td><td>--               </td><td>--               </td><td>YEM         </td><td>YEMEN       </td><td>YEM                </td><td>--                    </td><td>--                </td><td>--                   </td><td>--                   </td><td>--               </td><td>--               </td><td>--               </td><td>1            </td><td>051        </td><td>051            </td><td>05             </td><td>1          </td><td>3.4             </td><td>2            </td><td>1           </td><td>2            </td><td>0.57142857142858 </td><td>1               </td><td>Saudi Arabia        </td><td>SA                     </td><td>SA                  </td><td>--                  </td><td>25.0           </td><td>45.0            </td><td>SA                   </td><td>4               </td><td>Arab League, Al Qahirah, Egypt</td><td>EG                     </td><td>EG11                </td><td>65350               </td><td>30.0445        </td><td>31.2332         </td><td>11230301             </td><td>1               </td><td>Saudi Arabia        </td><td>SA                     </td><td>SA                  </td><td>--                  </td><td>25.0           </td><td>45.0            </td><td>SA                   </td><td>20220402141500</td><td>http://bwabtk.com/890131.html                      </td></tr>\n",
       "</tbody>\n",
       "</table>"
      ],
      "text/plain": [
       "#            GLOBALEVENTID    SQLDATE    MonthYear    Year    FractionDate    Actor1Code    Actor1Name    Actor1CountryCode    Actor1KnownGroupCode    Actor1EthnicCode    Actor1Religion1Code    Actor1Religion2Code    Actor1Type1Code    Actor1Type2Code    Actor1Type3Code    Actor2Code    Actor2Name    Actor2CountryCode    Actor2KnownGroupCode    Actor2EthnicCode    Actor2Religion1Code    Actor2Religion2Code    Actor2Type1Code    Actor2Type2Code    Actor2Type3Code    IsRootEvent    EventCode    EventBaseCode    EventRootCode    QuadClass    GoldsteinScale    NumMentions    NumSources    NumArticles    AvgTone            Actor1Geo_Type    Actor1Geo_FullName    Actor1Geo_CountryCode    Actor1Geo_ADM1Code    Actor1Geo_ADM2Code    Actor1Geo_Lat    Actor1Geo_Long    Actor1Geo_FeatureID    Actor2Geo_Type    Actor2Geo_FullName              Actor2Geo_CountryCode    Actor2Geo_ADM1Code    Actor2Geo_ADM2Code    Actor2Geo_Lat    Actor2Geo_Long    Actor2Geo_FeatureID    ActionGeo_Type    ActionGeo_FullName    ActionGeo_CountryCode    ActionGeo_ADM1Code    ActionGeo_ADM2Code    ActionGeo_Lat    ActionGeo_Long    ActionGeo_FeatureID    DATEADDED       SOURCEURL\n",
       "0            1037356467       20220401   202204       2022    2022.2493       COPGOV        POLICE        --                   --                      --                  --                     --                     COP                GOV                --                 MEX           OAXACA        MEX                  --                      --                  --                     --                     --                 --                 --                 1              173          173              17               4            -5.0              10             1             10             -4.50450450450451  0                 --                    --                       --                    --                    nan              nan               --                     0                 --                              --                       --                    --                    nan              nan               --                     0                 --                    --                       --                    --                    nan              nan               --                     20220402133000  'https://imparcialoaxaca.mx/policiaca/640606/cae...\n",
       "1            1037356550       20220402   202204       2022    2022.2521       BUS           COMPANY       --                   --                      --                  --                     --                     BUS                --                 --                 --            --            --                   --                      --                  --                     --                     --                 --                 --                 1              141          141              14               3            -6.5              10             1             10             -2.71028037383177  0                 --                    --                       --                    --                    nan              nan               --                     0                 --                              --                       --                    --                    nan              nan               --                     0                 --                    --                       --                    --                    nan              nan               --                     20220402133000  'https://www.lavozdegalicia.es/noticia/coruna/20...\n",
       "2            1037356555       20220402   202204       2022    2022.2521       BUS           COMPANIES     --                   --                      --                  --                     --                     BUS                --                 --                 GOV           GOVERNMENT    --                   --                      --                  --                     --                     GOV                --                 --                 1              070          070              07               2            7.0               10             1             10             0.0                0                 --                    --                       --                    --                    nan              nan               --                     0                 --                              --                       --                    --                    nan              nan               --                     0                 --                    --                       --                    --                    nan              nan               --                     20220402133000  'https://www.sudinfo.be/id454049/article/2022-04...\n",
       "3            1037356557       20220402   202204       2022    2022.2521       BUS           TRADER        --                   --                      --                  --                     --                     BUS                --                 --                 MEX           MEXICAN       MEX                  --                      --                  --                     --                     --                 --                 --                 1              060          060              06               2            6.0               10             1             10             -3.44827586206897  0                 --                    --                       --                    --                    nan              nan               --                     0                 --                              --                       --                    --                    nan              nan               --                     0                 --                    --                       --                    --                    nan              nan               --                     20220402133000  'https://imparcialoaxaca.mx/policiaca/640608/mot...\n",
       "4            1037356558       20220402   202204       2022    2022.2521       BUS           TRADER        --                   --                      --                  --                     --                     BUS                --                 --                 NGOHLHIRC     ICRC          --                   IRC                     --                  --                     --                     NGO                HLH                --                 1              020          020              02               1            3.0               10             1             10             -3.44827586206897  0                 --                    --                       --                    --                    nan              nan               --                     0                 --                              --                       --                    --                    nan              nan               --                     0                 --                    --                       --                    --                    nan              nan               --                     20220402133000  'https://imparcialoaxaca.mx/policiaca/640608/mot...\n",
       "...          ...              ...        ...          ...     ...             ...           ...           ...                  ...                     ...                 ...                    ...                    ...                ...                ...                ...           ...           ...                  ...                     ...                 ...                    ...                    ...                ...                ...                ...            ...          ...              ...              ...          ...               ...            ...           ...            ...                ...               ...                   ...                      ...                   ...                   ...              ...               ...                    ...               ...                             ...                      ...                   ...                   ...              ...               ...                    ...               ...                   ...                      ...                   ...                   ...              ...               ...                    ...             ...\n",
       "626,002,270  1037360336       20220402   202204       2022    2022.2521       SAU           SAUDI ARABIA  SAU                  --                      --                  --                     --                     --                 --                 --                 EGY           EGYPT         EGY                  --                      --                  --                     --                     --                 --                 --                 1              051          051              05               1            3.4               2              1             2              0.57142857142858   1                 Saudi Arabia          SA                       SA                    --                    25.0             45.0              SA                     4                 Arab League, Al Qahirah, Egypt  EG                       EG11                  65350                 30.0445          31.2332           11230301               4                 Marib, Ma'rib, Yemen  YM                       YM14                  145032                15.461           45.3253           10642624               20220402141500  http://bwabtk.com/890131.html\n",
       "626,002,271  1037360337       20220402   202204       2022    2022.2521       SAU           SAUDI ARABIA  SAU                  --                      --                  --                     --                     --                 --                 --                 EGY           EGYPT         EGY                  --                      --                  --                     --                     --                 --                 --                 0              080          080              08               2            5.0               2              1             2              0.57142857142858   1                 Saudi Arabia          SA                       SA                    --                    25.0             45.0              SA                     4                 Arab League, Al Qahirah, Egypt  EG                       EG11                  65350                 30.0445          31.2332           11230301               1                 Saudi Arabia          SA                       SA                    --                    25.0             45.0              SA                     20220402141500  http://bwabtk.com/890131.html\n",
       "626,002,272  1037360339       20220402   202204       2022    2022.2521       SAU           SAUDI ARABIA  SAU                  --                      --                  --                     --                     --                 --                 --                 IGOMEAARL     ARAB LEAGUE   MEA                  ARL                     --                  --                     --                     IGO                --                 --                 1              051          051              05               1            3.4               4              1             4              0.57142857142858   1                 Saudi Arabia          SA                       SA                    --                    25.0             45.0              SA                     4                 Arab League, Al Qahirah, Egypt  EG                       EG11                  65350                 30.0445          31.2332           11230301               4                 Marib, Ma'rib, Yemen  YM                       YM14                  145032                15.461           45.3253           10642624               20220402141500  http://bwabtk.com/890131.html\n",
       "626,002,273  1037360340       20220402   202204       2022    2022.2521       SAU           SAUDI ARABIA  SAU                  --                      --                  --                     --                     --                 --                 --                 IGOMEAARL     ARAB LEAGUE   MEA                  ARL                     --                  --                     --                     IGO                --                 --                 0              080          080              08               2            5.0               6              1             6              0.57142857142858   1                 Saudi Arabia          SA                       SA                    --                    25.0             45.0              SA                     4                 Arab League, Al Qahirah, Egypt  EG                       EG11                  65350                 30.0445          31.2332           11230301               1                 Saudi Arabia          SA                       SA                    --                    25.0             45.0              SA                     20220402141500  http://bwabtk.com/890131.html\n",
       "626,002,274  1037360342       20220402   202204       2022    2022.2521       SAU           SAUDI ARABIA  SAU                  --                      --                  --                     --                     --                 --                 --                 YEM           YEMEN         YEM                  --                      --                  --                     --                     --                 --                 --                 1              051          051              05               1            3.4               2              1             2              0.57142857142858   1                 Saudi Arabia          SA                       SA                    --                    25.0             45.0              SA                     4                 Arab League, Al Qahirah, Egypt  EG                       EG11                  65350                 30.0445          31.2332           11230301               1                 Saudi Arabia          SA                       SA                    --                    25.0             45.0              SA                     20220402141500  http://bwabtk.com/890131.html"
      ]
     },
     "execution_count": 8,
     "metadata": {},
     "output_type": "execute_result"
    }
   ],
   "source": [
    "# Basic view of the contents\n",
    "df"
   ]
  },
  {
   "cell_type": "markdown",
   "id": "90487de4",
   "metadata": {},
   "source": [
    "### Shallow copies"
   ]
  },
  {
   "cell_type": "code",
   "execution_count": 9,
   "id": "c525f63d",
   "metadata": {
    "ExecuteTime": {
     "end_time": "2022-12-02T19:39:23.078550Z",
     "start_time": "2022-12-02T19:39:23.062988Z"
    }
   },
   "outputs": [
    {
     "data": {
      "text/html": [
       "<table>\n",
       "<thead>\n",
       "<tr><th>#                                      </th><th>Actor1Type1Code  </th><th>Actor1Type2Code  </th><th>Actor1Type3Code  </th><th>Actor2Type1Code  </th><th>Actor2Type3Code  </th><th>Year  </th><th>NumSources  </th><th>NumArticles  </th><th>AvgTone          </th><th>GoldsteinScale  </th></tr>\n",
       "</thead>\n",
       "<tbody>\n",
       "<tr><td><i style='opacity: 0.6'>0</i>          </td><td>COP              </td><td>GOV              </td><td>--               </td><td>--               </td><td>--               </td><td>2022  </td><td>1           </td><td>10           </td><td>-4.50450450450451</td><td>-5.0            </td></tr>\n",
       "<tr><td><i style='opacity: 0.6'>1</i>          </td><td>BUS              </td><td>--               </td><td>--               </td><td>--               </td><td>--               </td><td>2022  </td><td>1           </td><td>10           </td><td>-2.71028037383177</td><td>-6.5            </td></tr>\n",
       "<tr><td><i style='opacity: 0.6'>2</i>          </td><td>BUS              </td><td>--               </td><td>--               </td><td>GOV              </td><td>--               </td><td>2022  </td><td>1           </td><td>10           </td><td>0.0              </td><td>7.0             </td></tr>\n",
       "<tr><td><i style='opacity: 0.6'>3</i>          </td><td>BUS              </td><td>--               </td><td>--               </td><td>--               </td><td>--               </td><td>2022  </td><td>1           </td><td>10           </td><td>-3.44827586206897</td><td>6.0             </td></tr>\n",
       "<tr><td><i style='opacity: 0.6'>4</i>          </td><td>BUS              </td><td>--               </td><td>--               </td><td>NGO              </td><td>--               </td><td>2022  </td><td>1           </td><td>10           </td><td>-3.44827586206897</td><td>3.0             </td></tr>\n",
       "<tr><td>...                                    </td><td>...              </td><td>...              </td><td>...              </td><td>...              </td><td>...              </td><td>...   </td><td>...         </td><td>...          </td><td>...              </td><td>...             </td></tr>\n",
       "<tr><td><i style='opacity: 0.6'>626,002,270</i></td><td>--               </td><td>--               </td><td>--               </td><td>--               </td><td>--               </td><td>2022  </td><td>1           </td><td>2            </td><td>0.57142857142858 </td><td>3.4             </td></tr>\n",
       "<tr><td><i style='opacity: 0.6'>626,002,271</i></td><td>--               </td><td>--               </td><td>--               </td><td>--               </td><td>--               </td><td>2022  </td><td>1           </td><td>2            </td><td>0.57142857142858 </td><td>5.0             </td></tr>\n",
       "<tr><td><i style='opacity: 0.6'>626,002,272</i></td><td>--               </td><td>--               </td><td>--               </td><td>IGO              </td><td>--               </td><td>2022  </td><td>1           </td><td>4            </td><td>0.57142857142858 </td><td>3.4             </td></tr>\n",
       "<tr><td><i style='opacity: 0.6'>626,002,273</i></td><td>--               </td><td>--               </td><td>--               </td><td>IGO              </td><td>--               </td><td>2022  </td><td>1           </td><td>6            </td><td>0.57142857142858 </td><td>5.0             </td></tr>\n",
       "<tr><td><i style='opacity: 0.6'>626,002,274</i></td><td>--               </td><td>--               </td><td>--               </td><td>--               </td><td>--               </td><td>2022  </td><td>1           </td><td>2            </td><td>0.57142857142858 </td><td>3.4             </td></tr>\n",
       "</tbody>\n",
       "</table>"
      ],
      "text/plain": [
       "#            Actor1Type1Code    Actor1Type2Code    Actor1Type3Code    Actor2Type1Code    Actor2Type3Code    Year    NumSources    NumArticles    AvgTone            GoldsteinScale\n",
       "0            COP                GOV                --                 --                 --                 2022    1             10             -4.50450450450451  -5.0\n",
       "1            BUS                --                 --                 --                 --                 2022    1             10             -2.71028037383177  -6.5\n",
       "2            BUS                --                 --                 GOV                --                 2022    1             10             0.0                7.0\n",
       "3            BUS                --                 --                 --                 --                 2022    1             10             -3.44827586206897  6.0\n",
       "4            BUS                --                 --                 NGO                --                 2022    1             10             -3.44827586206897  3.0\n",
       "...          ...                ...                ...                ...                ...                ...     ...           ...            ...                ...\n",
       "626,002,270  --                 --                 --                 --                 --                 2022    1             2              0.57142857142858   3.4\n",
       "626,002,271  --                 --                 --                 --                 --                 2022    1             2              0.57142857142858   5.0\n",
       "626,002,272  --                 --                 --                 IGO                --                 2022    1             4              0.57142857142858   3.4\n",
       "626,002,273  --                 --                 --                 IGO                --                 2022    1             6              0.57142857142858   5.0\n",
       "626,002,274  --                 --                 --                 --                 --                 2022    1             2              0.57142857142858   3.4"
      ]
     },
     "execution_count": 9,
     "metadata": {},
     "output_type": "execute_result"
    }
   ],
   "source": [
    "useful_columns = ['Actor1Type1Code', 'Actor1Type2Code', 'Actor1Type3Code', \n",
    "                  'Actor2Type1Code', 'Actor2Type3Code', 'Actor2Type3Code',\n",
    "                  'Year', 'NumSources', 'NumArticles', 'AvgTone', 'GoldsteinScale'\n",
    "                 ]\n",
    "\n",
    "df2 = df[useful_columns]\n",
    "df2"
   ]
  },
  {
   "cell_type": "markdown",
   "id": "8c7f3c55",
   "metadata": {},
   "source": [
    "### Interactions with the data: standard DataFrame API"
   ]
  },
  {
   "cell_type": "code",
   "execution_count": 10,
   "id": "4dd4fd93",
   "metadata": {
    "ExecuteTime": {
     "end_time": "2022-12-02T19:39:36.366484Z",
     "start_time": "2022-12-02T19:39:36.357984Z"
    }
   },
   "outputs": [
    {
     "data": {
      "text/plain": [
       "Expression = AvgTone\n",
       "Length: 626,002,275 dtype: float64 (column)\n",
       "-------------------------------------------\n",
       "        0   -4.5045\n",
       "        1  -2.71028\n",
       "        2         0\n",
       "        3  -3.44828\n",
       "        4  -3.44828\n",
       "        ...        \n",
       "626002270  0.571429\n",
       "626002271  0.571429\n",
       "626002272  0.571429\n",
       "626002273  0.571429\n",
       "626002274  0.571429"
      ]
     },
     "execution_count": 10,
     "metadata": {},
     "output_type": "execute_result"
    }
   ],
   "source": [
    "# Lets view a column\n",
    "df.AvgTone"
   ]
  },
  {
   "cell_type": "code",
   "execution_count": 11,
   "id": "44caac18",
   "metadata": {
    "ExecuteTime": {
     "end_time": "2022-12-02T19:40:03.121853Z",
     "start_time": "2022-12-02T19:40:03.113927Z"
    }
   },
   "outputs": [
    {
     "data": {
      "text/plain": [
       "Expression = Actor1Type1Code\n",
       "Length: 626,002,275 dtype: string (column)\n",
       "------------------------------------------\n",
       "        0  COP\n",
       "        1  BUS\n",
       "        2  BUS\n",
       "        3  BUS\n",
       "        4  BUS\n",
       "     ...      \n",
       "626002270   --\n",
       "626002271   --\n",
       "626002272   --\n",
       "626002273   --\n",
       "626002274   --"
      ]
     },
     "execution_count": 11,
     "metadata": {},
     "output_type": "execute_result"
    }
   ],
   "source": [
    "# Lets view another columns\n",
    "df.Actor1Type1Code"
   ]
  },
  {
   "cell_type": "markdown",
   "id": "93587c54",
   "metadata": {},
   "source": [
    "### Lazy evaluations"
   ]
  },
  {
   "cell_type": "code",
   "execution_count": 12,
   "id": "4b2ae274",
   "metadata": {
    "ExecuteTime": {
     "end_time": "2022-12-02T19:40:20.862016Z",
     "start_time": "2022-12-02T19:40:20.842819Z"
    }
   },
   "outputs": [
    {
     "data": {
      "text/plain": [
       "Expression = (NumArticles / NumSources)\n",
       "Length: 626,002,275 dtype: float64 (expression)\n",
       "-----------------------------------------------\n",
       "        0  10\n",
       "        1  10\n",
       "        2  10\n",
       "        3  10\n",
       "        4  10\n",
       "     ...     \n",
       "626002270   2\n",
       "626002271   2\n",
       "626002272   4\n",
       "626002273   6\n",
       "626002274   2"
      ]
     },
     "execution_count": 12,
     "metadata": {},
     "output_type": "execute_result"
    }
   ],
   "source": [
    "# For any computation, if printed/displayed, only a preview is shown\n",
    "df.NumArticles / df.NumSources"
   ]
  },
  {
   "cell_type": "markdown",
   "id": "262aa9f4",
   "metadata": {},
   "source": [
    "### Expressions & Virtual Columns"
   ]
  },
  {
   "cell_type": "code",
   "execution_count": 13,
   "id": "c9ba837d",
   "metadata": {
    "ExecuteTime": {
     "end_time": "2022-12-02T19:40:38.727837Z",
     "start_time": "2022-12-02T19:40:38.703724Z"
    }
   },
   "outputs": [
    {
     "data": {
      "text/html": [
       "<table>\n",
       "<thead>\n",
       "<tr><th>#                                      </th><th>Actor1Type1Code  </th><th>Actor1Type2Code  </th><th>Actor1Type3Code  </th><th>Actor2Type1Code  </th><th>Actor2Type3Code  </th><th>Year  </th><th>NumSources  </th><th>NumArticles  </th><th>AvgTone          </th><th>GoldsteinScale  </th><th>num_articles_per_source  </th></tr>\n",
       "</thead>\n",
       "<tbody>\n",
       "<tr><td><i style='opacity: 0.6'>0</i>          </td><td>COP              </td><td>GOV              </td><td>--               </td><td>--               </td><td>--               </td><td>2022  </td><td>1           </td><td>10           </td><td>-4.50450450450451</td><td>-5.0            </td><td>10.0                     </td></tr>\n",
       "<tr><td><i style='opacity: 0.6'>1</i>          </td><td>BUS              </td><td>--               </td><td>--               </td><td>--               </td><td>--               </td><td>2022  </td><td>1           </td><td>10           </td><td>-2.71028037383177</td><td>-6.5            </td><td>10.0                     </td></tr>\n",
       "<tr><td><i style='opacity: 0.6'>2</i>          </td><td>BUS              </td><td>--               </td><td>--               </td><td>GOV              </td><td>--               </td><td>2022  </td><td>1           </td><td>10           </td><td>0.0              </td><td>7.0             </td><td>10.0                     </td></tr>\n",
       "<tr><td><i style='opacity: 0.6'>3</i>          </td><td>BUS              </td><td>--               </td><td>--               </td><td>--               </td><td>--               </td><td>2022  </td><td>1           </td><td>10           </td><td>-3.44827586206897</td><td>6.0             </td><td>10.0                     </td></tr>\n",
       "<tr><td><i style='opacity: 0.6'>4</i>          </td><td>BUS              </td><td>--               </td><td>--               </td><td>NGO              </td><td>--               </td><td>2022  </td><td>1           </td><td>10           </td><td>-3.44827586206897</td><td>3.0             </td><td>10.0                     </td></tr>\n",
       "<tr><td>...                                    </td><td>...              </td><td>...              </td><td>...              </td><td>...              </td><td>...              </td><td>...   </td><td>...         </td><td>...          </td><td>...              </td><td>...             </td><td>...                      </td></tr>\n",
       "<tr><td><i style='opacity: 0.6'>626,002,270</i></td><td>--               </td><td>--               </td><td>--               </td><td>--               </td><td>--               </td><td>2022  </td><td>1           </td><td>2            </td><td>0.57142857142858 </td><td>3.4             </td><td>2.0                      </td></tr>\n",
       "<tr><td><i style='opacity: 0.6'>626,002,271</i></td><td>--               </td><td>--               </td><td>--               </td><td>--               </td><td>--               </td><td>2022  </td><td>1           </td><td>2            </td><td>0.57142857142858 </td><td>5.0             </td><td>2.0                      </td></tr>\n",
       "<tr><td><i style='opacity: 0.6'>626,002,272</i></td><td>--               </td><td>--               </td><td>--               </td><td>IGO              </td><td>--               </td><td>2022  </td><td>1           </td><td>4            </td><td>0.57142857142858 </td><td>3.4             </td><td>4.0                      </td></tr>\n",
       "<tr><td><i style='opacity: 0.6'>626,002,273</i></td><td>--               </td><td>--               </td><td>--               </td><td>IGO              </td><td>--               </td><td>2022  </td><td>1           </td><td>6            </td><td>0.57142857142858 </td><td>5.0             </td><td>6.0                      </td></tr>\n",
       "<tr><td><i style='opacity: 0.6'>626,002,274</i></td><td>--               </td><td>--               </td><td>--               </td><td>--               </td><td>--               </td><td>2022  </td><td>1           </td><td>2            </td><td>0.57142857142858 </td><td>3.4             </td><td>2.0                      </td></tr>\n",
       "</tbody>\n",
       "</table>"
      ],
      "text/plain": [
       "#            Actor1Type1Code    Actor1Type2Code    Actor1Type3Code    Actor2Type1Code    Actor2Type3Code    Year    NumSources    NumArticles    AvgTone            GoldsteinScale    num_articles_per_source\n",
       "0            COP                GOV                --                 --                 --                 2022    1             10             -4.50450450450451  -5.0              10.0\n",
       "1            BUS                --                 --                 --                 --                 2022    1             10             -2.71028037383177  -6.5              10.0\n",
       "2            BUS                --                 --                 GOV                --                 2022    1             10             0.0                7.0               10.0\n",
       "3            BUS                --                 --                 --                 --                 2022    1             10             -3.44827586206897  6.0               10.0\n",
       "4            BUS                --                 --                 NGO                --                 2022    1             10             -3.44827586206897  3.0               10.0\n",
       "...          ...                ...                ...                ...                ...                ...     ...           ...            ...                ...               ...\n",
       "626,002,270  --                 --                 --                 --                 --                 2022    1             2              0.57142857142858   3.4               2.0\n",
       "626,002,271  --                 --                 --                 --                 --                 2022    1             2              0.57142857142858   5.0               2.0\n",
       "626,002,272  --                 --                 --                 IGO                --                 2022    1             4              0.57142857142858   3.4               4.0\n",
       "626,002,273  --                 --                 --                 IGO                --                 2022    1             6              0.57142857142858   5.0               6.0\n",
       "626,002,274  --                 --                 --                 --                 --                 2022    1             2              0.57142857142858   3.4               2.0"
      ]
     },
     "execution_count": 13,
     "metadata": {},
     "output_type": "execute_result"
    }
   ],
   "source": [
    "# Define a virtual column. We call it virtual cause it uses no memory!\n",
    "# It is evaluated on the fly when needed.\n",
    "df2['num_articles_per_source'] = df2.NumArticles / df2.NumSources\n",
    "\n",
    "# Display the DataFrame\n",
    "df2"
   ]
  },
  {
   "cell_type": "markdown",
   "id": "fccf82f0",
   "metadata": {},
   "source": [
    "### Evaluating expressions"
   ]
  },
  {
   "cell_type": "code",
   "execution_count": 14,
   "id": "7fed08de",
   "metadata": {
    "ExecuteTime": {
     "end_time": "2022-12-02T19:41:16.226678Z",
     "start_time": "2022-12-02T19:41:15.629906Z"
    }
   },
   "outputs": [
    {
     "data": {
      "application/vnd.jupyter.widget-view+json": {
       "model_id": "0f829aeee1634772994d95a405c72df0",
       "version_major": 2,
       "version_minor": 0
      },
      "text/plain": [
       "HBox(children=(FloatProgress(value=0.0, max=1.0), Label(value='In progress...')))"
      ]
     },
     "metadata": {},
     "output_type": "display_data"
    },
    {
     "data": {
      "text/plain": [
       "array(5.46856944)"
      ]
     },
     "execution_count": 14,
     "metadata": {},
     "output_type": "execute_result"
    }
   ],
   "source": [
    "# Calculate some statistics\n",
    "df2.num_articles_per_source.mean(progress='widget')"
   ]
  },
  {
   "cell_type": "markdown",
   "id": "bf390ab6",
   "metadata": {},
   "source": [
    "### Binned statistics\n",
    " - 0-dimenional (point values): mean, standard deviation, skew etc.."
   ]
  },
  {
   "cell_type": "code",
   "execution_count": 15,
   "id": "cdca377f",
   "metadata": {
    "ExecuteTime": {
     "end_time": "2022-12-02T19:41:33.196757Z",
     "start_time": "2022-12-02T19:41:32.895307Z"
    }
   },
   "outputs": [
    {
     "data": {
      "application/vnd.jupyter.widget-view+json": {
       "model_id": "7c2bc4e032bf4c81a1e778127db63343",
       "version_major": 2,
       "version_minor": 0
      },
      "text/plain": [
       "HBox(children=(FloatProgress(value=0.0, max=1.0), Label(value='In progress...')))"
      ]
     },
     "metadata": {},
     "output_type": "display_data"
    },
    {
     "data": {
      "text/plain": [
       "array(626002275)"
      ]
     },
     "execution_count": 15,
     "metadata": {},
     "output_type": "execute_result"
    }
   ],
   "source": [
    "df2.count(df.AvgTone, progress='widget')"
   ]
  },
  {
   "cell_type": "markdown",
   "id": "f3b0b680",
   "metadata": {},
   "source": [
    "Vaex calculate multiple statistics with a single pass over the data"
   ]
  },
  {
   "cell_type": "code",
   "execution_count": 16,
   "id": "467a817b",
   "metadata": {
    "ExecuteTime": {
     "end_time": "2022-12-02T19:41:36.330063Z",
     "start_time": "2022-12-02T19:41:35.922637Z"
    }
   },
   "outputs": [
    {
     "data": {
      "application/vnd.jupyter.widget-view+json": {
       "model_id": "31cd4b316ae04c1691d83858dd04fa31",
       "version_major": 2,
       "version_minor": 0
      },
      "text/plain": [
       "HBox(children=(FloatProgress(value=0.0, max=1.0), Label(value='In progress...')))"
      ]
     },
     "metadata": {},
     "output_type": "display_data"
    },
    {
     "data": {
      "text/plain": [
       "array([-1.98831662,  0.57507637])"
      ]
     },
     "execution_count": 16,
     "metadata": {},
     "output_type": "execute_result"
    }
   ],
   "source": [
    "df2.mean([df.AvgTone, df.GoldsteinScale], progress='widget')"
   ]
  },
  {
   "cell_type": "markdown",
   "id": "02a60cea",
   "metadata": {},
   "source": [
    "- 1-dimensional: histograms"
   ]
  },
  {
   "cell_type": "code",
   "execution_count": 17,
   "id": "e107277a",
   "metadata": {
    "ExecuteTime": {
     "end_time": "2022-12-02T19:41:50.013946Z",
     "start_time": "2022-12-02T19:41:49.478642Z"
    }
   },
   "outputs": [
    {
     "data": {
      "application/vnd.jupyter.widget-view+json": {
       "model_id": "0c8b3340c944454aac9f145303721b53",
       "version_major": 2,
       "version_minor": 0
      },
      "text/plain": [
       "HBox(children=(FloatProgress(value=0.0, max=1.0), Label(value='In progress...')))"
      ]
     },
     "metadata": {},
     "output_type": "display_data"
    },
    {
     "data": {
      "text/plain": [
       "array([        1,         0,         0,         0,         2,         3,\n",
       "               6,         8,        29,        47,       278,       510,\n",
       "            2217,     10405,     47070,    301471,   2077769,  13676167,\n",
       "        67807097, 196812020, 242564437,  89781962,  11648398,   1127030,\n",
       "          127086,     15796,      1937,       392,        92,        28,\n",
       "              10,         6])"
      ]
     },
     "execution_count": 17,
     "metadata": {},
     "output_type": "execute_result"
    }
   ],
   "source": [
    "df2.count(binby=df2.AvgTone, shape=32, progress='widget')"
   ]
  },
  {
   "cell_type": "code",
   "execution_count": 18,
   "id": "287ccab7",
   "metadata": {
    "ExecuteTime": {
     "end_time": "2022-12-02T19:41:52.958539Z",
     "start_time": "2022-12-02T19:41:52.843471Z"
    }
   },
   "outputs": [
    {
     "data": {
      "image/png": "[encoded data removed]",
      "text/plain": [
       "<Figure size 640x480 with 1 Axes>"
      ]
     },
     "metadata": {},
     "output_type": "display_data"
    }
   ],
   "source": [
    "plt.plot(_);"
   ]
  },
  {
   "cell_type": "markdown",
   "id": "68a9760c",
   "metadata": {},
   "source": [
    "We can generalize this to N-dimensions:\n",
    " - 2-dimensional representations: heatmaps\n",
    " - higher dimensionalities\n",
    " \n",
    "`vaex-viz` provides convenience methods for computing and displaying histograms, heatmaps and other plots, with a variety of options out of the box:"
   ]
  },
  {
   "cell_type": "code",
   "execution_count": 19,
   "id": "f03e22a6",
   "metadata": {
    "ExecuteTime": {
     "end_time": "2022-12-02T19:42:01.472457Z",
     "start_time": "2022-12-02T19:41:59.976961Z"
    }
   },
   "outputs": [
    {
     "data": {
      "application/vnd.jupyter.widget-view+json": {
       "model_id": "73536ecd35304bf68b1baf5b646640f8",
       "version_major": 2,
       "version_minor": 0
      },
      "text/plain": [
       "HBox(children=(FloatProgress(value=0.0, max=1.0), Label(value='In progress...')))"
      ]
     },
     "metadata": {},
     "output_type": "display_data"
    },
    {
     "data": {
      "image/png": "[encoded data removed]",
      "text/plain": [
       "<Figure size 640x480 with 1 Axes>"
      ]
     },
     "metadata": {},
     "output_type": "display_data"
    }
   ],
   "source": [
    "df.AvgTone.viz.histogram(limits='99%', shape=128, progress='widget');"
   ]
  },
  {
   "cell_type": "markdown",
   "id": "3ad29514",
   "metadata": {},
   "source": [
    "### Efficient aggregations"
   ]
  },
  {
   "cell_type": "code",
   "execution_count": 20,
   "id": "9782332f",
   "metadata": {
    "ExecuteTime": {
     "end_time": "2022-12-02T19:42:16.589208Z",
     "start_time": "2022-12-02T19:42:15.913343Z"
    }
   },
   "outputs": [
    {
     "data": {
      "application/vnd.jupyter.widget-view+json": {
       "model_id": "03952365a60d4bedbe050147ea47e5f5",
       "version_major": 2,
       "version_minor": 0
      },
      "text/plain": [
       "HBox(children=(FloatProgress(value=0.0, max=1.0), Label(value='In progress...')))"
      ]
     },
     "metadata": {},
     "output_type": "display_data"
    },
    {
     "data": {
      "text/plain": [
       "2016    114490697\n",
       "2017    105043785\n",
       "2018     94274806\n",
       "2015     88097260\n",
       "2019     82320409\n",
       "2020     65355708\n",
       "2021     58862936\n",
       "2022     15805440\n",
       "2014       881993\n",
       "1920       789562\n",
       "2006        13552\n",
       "2007        13064\n",
       "2005        11819\n",
       "2008        11784\n",
       "2009        11181\n",
       "2010         8507\n",
       "2011         7670\n",
       "2012         2102\n",
       "dtype: int64"
      ]
     },
     "execution_count": 20,
     "metadata": {},
     "output_type": "execute_result"
    }
   ],
   "source": [
    "# Most importand data-science method according to Jovan\n",
    "df2.Year.value_counts(progress='widget')"
   ]
  },
  {
   "cell_type": "code",
   "execution_count": 21,
   "id": "468a9176",
   "metadata": {
    "ExecuteTime": {
     "end_time": "2022-12-02T19:42:30.310233Z",
     "start_time": "2022-12-02T19:42:28.486036Z"
    }
   },
   "outputs": [
    {
     "data": {
      "application/vnd.jupyter.widget-view+json": {
       "model_id": "20d5ee59c662426cb1ffb5b8950cd490",
       "version_major": 2,
       "version_minor": 0
      },
      "text/plain": [
       "HBox(children=(FloatProgress(value=0.0, max=1.0), Label(value='In progress...')))"
      ]
     },
     "metadata": {},
     "output_type": "display_data"
    },
    {
     "data": {
      "text/plain": [
       "34"
      ]
     },
     "execution_count": 21,
     "metadata": {},
     "output_type": "execute_result"
    }
   ],
   "source": [
    "# Determining the number of unique elements\n",
    "df2.Actor1Type1Code.nunique(progress='widget')"
   ]
  },
  {
   "cell_type": "code",
   "execution_count": 22,
   "id": "42ca6f21",
   "metadata": {
    "ExecuteTime": {
     "end_time": "2022-12-02T19:42:35.924520Z",
     "start_time": "2022-12-02T19:42:32.757735Z"
    }
   },
   "outputs": [
    {
     "data": {
      "application/vnd.jupyter.widget-view+json": {
       "model_id": "d69081e6df05442eb1082daa5bff41bd",
       "version_major": 2,
       "version_minor": 0
      },
      "text/plain": [
       "HBox(children=(FloatProgress(value=0.0, max=1.0), Label(value='In progress...')))"
      ]
     },
     "metadata": {},
     "output_type": "display_data"
    },
    {
     "data": {
      "text/html": [
       "<table>\n",
       "<thead>\n",
       "<tr><th>#                              </th><th>Year  </th><th>Actor1Type1Code  </th><th>AvgTone_mean       </th><th>AvgTone_std       </th><th>GoldsteinScale_filtered  </th></tr>\n",
       "</thead>\n",
       "<tbody>\n",
       "<tr><td><i style='opacity: 0.6'>0</i>  </td><td>2010  </td><td>--               </td><td>-1.7139761846241774</td><td>3.5234826182067334</td><td>0.8036969696969698       </td></tr>\n",
       "<tr><td><i style='opacity: 0.6'>1</i>  </td><td>2010  </td><td>MED              </td><td>-1.651721928629778 </td><td>2.9181205779663775</td><td>-0.45390070921985815     </td></tr>\n",
       "<tr><td><i style='opacity: 0.6'>2</i>  </td><td>2010  </td><td>SEP              </td><td>-0.62305295950155  </td><td>0.0               </td><td>2.8                      </td></tr>\n",
       "<tr><td><i style='opacity: 0.6'>3</i>  </td><td>2010  </td><td>ELI              </td><td>-0.6933948344660995</td><td>2.1680634124840346</td><td>1.7354838709677418       </td></tr>\n",
       "<tr><td><i style='opacity: 0.6'>4</i>  </td><td>2010  </td><td>GOV              </td><td>-1.9660171662131163</td><td>3.203318643018034 </td><td>0.9509842519685041       </td></tr>\n",
       "<tr><td>...                            </td><td>...   </td><td>...              </td><td>...                </td><td>...               </td><td>...                      </td></tr>\n",
       "<tr><td><i style='opacity: 0.6'>575</i></td><td>2022  </td><td>REF              </td><td>-2.803824163637289 </td><td>3.005178706159556 </td><td>2.078164071577916        </td></tr>\n",
       "<tr><td><i style='opacity: 0.6'>576</i></td><td>2022  </td><td>REB              </td><td>-4.150879566541084 </td><td>3.49189998876314  </td><td>-1.9969966783539355      </td></tr>\n",
       "<tr><td><i style='opacity: 0.6'>577</i></td><td>2022  </td><td>COP              </td><td>-4.97433940063627  </td><td>3.780470703413424 </td><td>-1.7178295828329053      </td></tr>\n",
       "<tr><td><i style='opacity: 0.6'>578</i></td><td>2022  </td><td>INS              </td><td>-3.0582203284692033</td><td>2.734568293309767 </td><td>0.040452725592856245     </td></tr>\n",
       "<tr><td><i style='opacity: 0.6'>579</i></td><td>2022  </td><td>NGM              </td><td>-5.06329113924051  </td><td>0.0               </td><td>3.4                      </td></tr>\n",
       "</tbody>\n",
       "</table>"
      ],
      "text/plain": [
       "#    Year    Actor1Type1Code    AvgTone_mean         AvgTone_std         GoldsteinScale_filtered\n",
       "0    2010    --                 -1.7139761846241774  3.5234826182067334  0.8036969696969698\n",
       "1    2010    MED                -1.651721928629778   2.9181205779663775  -0.45390070921985815\n",
       "2    2010    SEP                -0.62305295950155    0.0                 2.8\n",
       "3    2010    ELI                -0.6933948344660995  2.1680634124840346  1.7354838709677418\n",
       "4    2010    GOV                -1.9660171662131163  3.203318643018034   0.9509842519685041\n",
       "...  ...     ...                ...                  ...                 ...\n",
       "575  2022    REF                -2.803824163637289   3.005178706159556   2.078164071577916\n",
       "576  2022    REB                -4.150879566541084   3.49189998876314    -1.9969966783539355\n",
       "577  2022    COP                -4.97433940063627    3.780470703413424   -1.7178295828329053\n",
       "578  2022    INS                -3.0582203284692033  2.734568293309767   0.040452725592856245\n",
       "579  2022    NGM                -5.06329113924051    0.0                 3.4"
      ]
     },
     "execution_count": 22,
     "metadata": {},
     "output_type": "execute_result"
    }
   ],
   "source": [
    "# GrouBy calculations are super fast - and you can do filtering per aggregation!!\n",
    "df2.groupby(['Year', 'Actor1Type1Code'], \n",
    "            progress='widget',\n",
    "            agg={\n",
    "                'AvgTone': ['mean', 'std'],\n",
    "                'GoldsteinScale_filtered': vaex.agg.mean('GoldsteinScale', selection=df2.NumArticles>2)\n",
    "                }\n",
    "           )"
   ]
  },
  {
   "cell_type": "markdown",
   "id": "23e376a7",
   "metadata": {},
   "source": [
    "## Leverage `vaex` and build fast applications!"
   ]
  },
  {
   "cell_type": "code",
   "execution_count": 23,
   "id": "e18aa434",
   "metadata": {
    "ExecuteTime": {
     "end_time": "2022-12-02T19:44:03.517184Z",
     "start_time": "2022-12-02T19:44:03.510982Z"
    }
   },
   "outputs": [],
   "source": [
    "actor_codes = {\n",
    "    'AGR': 'Agriculture: individuals and groups involved in the practices of crop cultivation including government agencies whose primary concern is agricultural issues',\n",
    "    'BUS': 'Business: businessmen, companies, and enterprises, not including MNCs',\n",
    "    'COP': 'Police forces, officers, criminal investigative units, protective agencies',\n",
    "    'CRM': 'Criminal: corresponding to individuals involved in or allegedly involved in the deliberate breaking of state or international laws primarily for profit',\n",
    "    'CVL': 'Civilian individuals or groups sometimes used as catch-all for individuals or groups for whom no other role category is appropriate',\n",
    "    'DEV': 'Development: individuals or groups concerned primarily with development issues of varying types including infrastructure creation, democratization et al.',\n",
    "    'EDU': 'Education: educators, schools, students, or organizations dealing with education',\n",
    "    'ELI': 'Elites: former government officials, celebrities, spokespersons for organizations without further role categorization (George Soros, former Secretary of Defense, Bono)',\n",
    "    'ENV': 'Environmental: entities for whom environmental and ecological issues are their primary focus, includes wildlife preservation, climate change, etc.',\n",
    "    'GOV': 'Government: the executive, governing parties, coalitions partners, executive divisions',\n",
    "    'HLH': 'Health: individuals, groups and organizations dealing with health and social welfare practices (doctors, Doctors Without Borders)',\n",
    "    'HRI': 'Human Rights: actors for whom their primary area of operation or expertise is with documenting and/or correcting human rights concerns',\n",
    "    'IGO': 'Inter-governmental organizations',\n",
    "    'IMG': 'International Militarized Groups',\n",
    "    'INS': 'Insurgents (rebels): all rebels who attempt to overthrow their national government',\n",
    "    'INT': 'International or transnational actors who cannot be further specified as IGO, UIS, NGO, NGM, or MNC',\n",
    "    'JUD': 'Judiciary: judges, courts',\n",
    "    'LAB': 'Labor: specifically individuals in or elements of organized labor, organizations concerned with labor issues',\n",
    "    'LEG': 'Legislature: parliaments, assemblies, lawmakers, references to specific legislative entities or sub-entities such as committees',\n",
    "    'MED': 'Media: journalists, newspapers, television stations also includes providers of internet services and other forms of mass information dissemination',\n",
    "    'MIL': 'Military: troops, soldiers, all state-military personnel/equipment',\n",
    "    'MNC': 'Multi-national corporation',\n",
    "    'MOD': 'Moderate: “moderate,” “mainstream,” etc.',\n",
    "    'NGM': 'Non-governmental movements',\n",
    "    'NGO': 'Non-governmental organizations',\n",
    "    'OPP': 'Political opposition: opposition parties, individuals, anti-government activists',\n",
    "    'RAD': 'Radical: “radical,” “extremist,” “fundamentalist,” et',\n",
    "    'REB': 'Rebels: armed and violent opposition groups, individuals',\n",
    "    'REF': 'Refugees: also refers to agencies or MNCs dealing with population migration and relocation issues',\n",
    "    'SEP': 'Separatist rebels: all rebels who try to emancipate their region from its country',\n",
    "    'SPY': 'State intelligence services and members including covert operations groups as well as intelligence collection and analyses',\n",
    "    'UAF': 'Armed forces aligned neither with nor against their government',\n",
    "    'UIS': 'Unidentified state actors',\n",
    "}"
   ]
  },
  {
   "cell_type": "code",
   "execution_count": 24,
   "id": "37f91169",
   "metadata": {
    "ExecuteTime": {
     "end_time": "2022-12-02T19:44:07.645765Z",
     "start_time": "2022-12-02T19:44:07.600132Z"
    }
   },
   "outputs": [
    {
     "data": {
      "text/plain": [
       "Expression = (((((isin_set(Actor1Type1Code, var_isin_ordered_set_expre...\n",
       "Length: 626,002,275 dtype: bool (expression)\n",
       "--------------------------------------------\n",
       "        0  False\n",
       "        1  False\n",
       "        2  False\n",
       "        3  False\n",
       "        4  False\n",
       "      ...       \n",
       "626002270  False\n",
       "626002271  False\n",
       "626002272  False\n",
       "626002273  False\n",
       "626002274  False"
      ]
     },
     "execution_count": 24,
     "metadata": {},
     "output_type": "execute_result"
    }
   ],
   "source": [
    "def create_filter(codes: list, year_min: int, year_max: int) -> vaex.expression.Expression:\n",
    "    filter = (df.Actor1Type1Code.isin(codes) |\n",
    "              df.Actor1Type2Code.isin(codes) |\n",
    "              df.Actor1Type3Code.isin(codes) |\n",
    "              df.Actor2Type1Code.isin(codes) |\n",
    "              df.Actor2Type2Code.isin(codes) |\n",
    "              df.Actor2Type3Code.isin(codes))\n",
    "    if year_min is not None:\n",
    "        filter = filter & (df.Year >= year_min)\n",
    "    if year_max is not None:\n",
    "        filter = filter & (df.Year <= year_max)\n",
    "\n",
    "    return filter\n",
    "\n",
    "\n",
    "my_filter = create_filter(['EDU'], year_min=None, year_max=None)\n",
    "my_filter  # This is still lazily evaluated .. in this case only a preview is shown!"
   ]
  },
  {
   "cell_type": "markdown",
   "id": "da2ffea1",
   "metadata": {},
   "source": [
    "### Let's start with a bonus: `rich` progress bars\n",
    "\n",
    "What we are trying to achieve:\n",
    " - filter the 600M rows (350GB!) dataframe\n",
    "     - the filtering is done accross 6 to 8 columns!\n",
    " - calculate 5 global statistics\n",
    " - perform 2 groupby operations\n",
    "     - perform 5 aggregations on each of those groupings\n",
    " - combine the output of those two groupby operations: another groupby + aggregations but on small data"
   ]
  },
  {
   "cell_type": "code",
   "execution_count": 25,
   "id": "f1e55d61",
   "metadata": {
    "ExecuteTime": {
     "end_time": "2022-12-02T19:44:44.984556Z",
     "start_time": "2022-12-02T19:44:44.719871Z"
    }
   },
   "outputs": [],
   "source": [
    "# Filter the dataframe - still lazy!\n",
    "dff = df.filter(my_filter)"
   ]
  },
  {
   "cell_type": "code",
   "execution_count": 26,
   "id": "9f2ad44b",
   "metadata": {
    "ExecuteTime": {
     "end_time": "2022-12-02T19:45:25.604844Z",
     "start_time": "2022-12-02T19:45:19.789252Z"
    }
   },
   "outputs": [
    {
     "data": {
      "application/vnd.jupyter.widget-view+json": {
       "model_id": "d430244e43a444dfbe77ddf194c58c2c",
       "version_major": 2,
       "version_minor": 0
      },
      "text/plain": [
       "Output()"
      ]
     },
     "metadata": {},
     "output_type": "display_data"
    },
    {
     "data": {
      "text/html": [
       "<pre style=\"white-space:pre;overflow-x:auto;line-height:normal;font-family:Menlo,'DejaVu Sans Mono',consolas,'Courier New',monospace\"></pre>\n"
      ],
      "text/plain": []
     },
     "metadata": {},
     "output_type": "display_data"
    },
    {
     "name": "stdout",
     "output_type": "stream",
     "text": [
      "Total events: 32,788,236\n",
      "\n",
      "Average Tone: -0.643; Average GoldStein value: 1.175\n",
      "\n",
      "Total number of sources: 34,306,638; Total number of articles: 197,539,032\n",
      "\n"
     ]
    },
    {
     "data": {
      "text/html": [
       "<table>\n",
       "<thead>\n",
       "<tr><th>#                              </th><th>CountryCode  </th><th>avg_tone              </th><th>goldstein_scale    </th><th>num_events  </th><th>num_articles  </th><th>num_sources  </th></tr>\n",
       "</thead>\n",
       "<tbody>\n",
       "<tr><td><i style='opacity: 0.6'>0</i>  </td><td>LKA          </td><td>-1.0870484794008164   </td><td>0.904308307000399  </td><td>30035       </td><td>146055        </td><td>30358        </td></tr>\n",
       "<tr><td><i style='opacity: 0.6'>1</i>  </td><td>BGD          </td><td>-2.577121513960179    </td><td>-0.6042843026564858</td><td>127512      </td><td>674091        </td><td>129560       </td></tr>\n",
       "<tr><td><i style='opacity: 0.6'>2</i>  </td><td>ISL          </td><td>-0.0018256585989949161</td><td>1.860037906327354  </td><td>6859        </td><td>40095         </td><td>7263         </td></tr>\n",
       "<tr><td><i style='opacity: 0.6'>3</i>  </td><td>--           </td><td>-0.6448759225295404   </td><td>1.1726141957323575 </td><td>46622695    </td><td>308783364     </td><td>48665065     </td></tr>\n",
       "<tr><td><i style='opacity: 0.6'>4</i>  </td><td>LAO          </td><td>1.8962880242369904    </td><td>2.273037651502637  </td><td>3134        </td><td>13217         </td><td>3170         </td></tr>\n",
       "<tr><td>...                            </td><td>...          </td><td>...                   </td><td>...                </td><td>...         </td><td>...           </td><td>...          </td></tr>\n",
       "<tr><td><i style='opacity: 0.6'>218</i></td><td>DEU          </td><td>-0.6279299096457766   </td><td>1.3719638834396997 </td><td>213974      </td><td>1094946       </td><td>222062       </td></tr>\n",
       "<tr><td><i style='opacity: 0.6'>219</i></td><td>ZMB          </td><td>-0.2632059311789001   </td><td>1.366605928937274  </td><td>14269       </td><td>60188         </td><td>14484        </td></tr>\n",
       "<tr><td><i style='opacity: 0.6'>220</i></td><td>GAB          </td><td>-0.612412312634807    </td><td>1.4434995912472337 </td><td>1223        </td><td>6869          </td><td>1259         </td></tr>\n",
       "<tr><td><i style='opacity: 0.6'>221</i></td><td>IDN          </td><td>-0.6047364363786889   </td><td>1.081597518534305  </td><td>121864      </td><td>762309        </td><td>124410       </td></tr>\n",
       "<tr><td><i style='opacity: 0.6'>222</i></td><td>HKG          </td><td>1.491690282404208     </td><td>2.494808743169399  </td><td>366         </td><td>2563          </td><td>369          </td></tr>\n",
       "</tbody>\n",
       "</table>"
      ],
      "text/plain": [
       "#    CountryCode    avg_tone                goldstein_scale      num_events    num_articles    num_sources\n",
       "0    LKA            -1.0870484794008164     0.904308307000399    30035         146055          30358\n",
       "1    BGD            -2.577121513960179      -0.6042843026564858  127512        674091          129560\n",
       "2    ISL            -0.0018256585989949161  1.860037906327354    6859          40095           7263\n",
       "3    --             -0.6448759225295404     1.1726141957323575   46622695      308783364       48665065\n",
       "4    LAO            1.8962880242369904      2.273037651502637    3134          13217           3170\n",
       "...  ...            ...                     ...                  ...           ...             ...\n",
       "218  DEU            -0.6279299096457766     1.3719638834396997   213974        1094946         222062\n",
       "219  ZMB            -0.2632059311789001     1.366605928937274    14269         60188           14484\n",
       "220  GAB            -0.612412312634807      1.4434995912472337   1223          6869            1259\n",
       "221  IDN            -0.6047364363786889     1.081597518534305    121864        762309          124410\n",
       "222  HKG            1.491690282404208       2.494808743169399    366           2563            369"
      ]
     },
     "execution_count": 26,
     "metadata": {},
     "output_type": "execute_result"
    }
   ],
   "source": [
    "# Here we begin to eagarly compute the quantities of interest\n",
    "with vaex.progress.tree('rich'):\n",
    "    \n",
    "    # Calculating some global statistics\n",
    "\n",
    "    # Total number of events\n",
    "    total_events = dff.count()\n",
    "    \n",
    "    # Average Tone and Goldstein factor\n",
    "    avg_stats = dff.mean([dff.AvgTone, dff.GoldsteinScale])\n",
    "    \n",
    "    # Total number of sources and articles\n",
    "    total_stats = dff.sum([dff.NumSources, dff.NumArticles])\n",
    "    \n",
    "    # Now calculate the same per country\n",
    "    # Define the aggregators per country\n",
    "    aggs_country = {'counts': 'count',\n",
    "                    'avg_tone_sum': vaex.agg.sum(dff.AvgTone),\n",
    "                    'goldstein_scale_sum': vaex.agg.sum(dff.GoldsteinScale),\n",
    "                    'num_articles': vaex.agg.sum(dff.NumArticles),\n",
    "                    'num_sources': vaex.agg.sum(dff.NumSources)}\n",
    "    \n",
    "    # There there can be two actors per article so we are doing this twice!\n",
    "    gdf1 = dff.groupby(dff.Actor1CountryCode).agg(aggs_country)\n",
    "    gdf2 = dff.groupby(dff.Actor2CountryCode).agg(aggs_country)\n",
    "    \n",
    "    # Rename - it is done in place\n",
    "    gdf1.rename('Actor1CountryCode', 'CountryCode');\n",
    "    gdf2.rename('Actor2CountryCode', 'CountryCode');\n",
    "    \n",
    "    # Merge the two grouped DataFrames\n",
    "    gdf = vaex.concat((gdf1, gdf2))\n",
    "\n",
    "    # Combine the statistics\n",
    "    aggs_country_combine = {'avg_tone': vaex.agg.sum('avg_tone_sum') / vaex.agg.sum('counts'),\n",
    "                            'avg_tone': vaex.agg.sum('avg_tone_sum') / vaex.agg.sum('counts'),\n",
    "                            'goldstein_scale': vaex.agg.sum('goldstein_scale_sum') / vaex.agg.sum('counts'),\n",
    "                            'num_events': vaex.agg.sum('counts'),\n",
    "                            'num_articles': vaex.agg.sum('num_articles'),\n",
    "                            'num_sources': vaex.agg.sum('num_sources')}\n",
    "    gdf = gdf.groupby('CountryCode').agg(aggs_country_combine)\n",
    "    \n",
    "    \n",
    "\n",
    "\n",
    "print(f'Total events: {total_events:,}')\n",
    "print()\n",
    "print(f'Average Tone: {avg_stats[0]:.3f}; Average GoldStein value: {avg_stats[1]:.3f}')\n",
    "print()\n",
    "print(f'Total number of sources: {total_stats[0]:,}; Total number of articles: {total_stats[1]:,}')\n",
    "print()\n",
    "gdf"
   ]
  },
  {
   "cell_type": "markdown",
   "id": "4bb90434",
   "metadata": {
    "ExecuteTime": {
     "end_time": "2022-10-12T20:18:59.745993Z",
     "start_time": "2022-10-12T20:18:59.339551Z"
    }
   },
   "source": [
    "### Optimizing the computation process: `delayed` computations"
   ]
  },
  {
   "cell_type": "code",
   "execution_count": 27,
   "id": "ef245447",
   "metadata": {
    "ExecuteTime": {
     "end_time": "2022-12-02T19:48:23.242385Z",
     "start_time": "2022-12-02T19:48:20.121407Z"
    }
   },
   "outputs": [
    {
     "data": {
      "application/vnd.jupyter.widget-view+json": {
       "model_id": "b851d620a2704407839987be6a1c8f4b",
       "version_major": 2,
       "version_minor": 0
      },
      "text/plain": [
       "Output()"
      ]
     },
     "metadata": {},
     "output_type": "display_data"
    },
    {
     "data": {
      "text/html": [
       "<pre style=\"white-space:pre;overflow-x:auto;line-height:normal;font-family:Menlo,'DejaVu Sans Mono',consolas,'Courier New',monospace\"></pre>\n"
      ],
      "text/plain": []
     },
     "metadata": {},
     "output_type": "display_data"
    },
    {
     "name": "stdout",
     "output_type": "stream",
     "text": [
      "Total events: 32,788,236\n",
      "\n",
      "Average Tone: -0.643; Average GoldStein value: 1.175\n",
      "\n",
      "Total number of sources: 34,306,638; Total number of articles: 197,539,032\n",
      "\n"
     ]
    },
    {
     "data": {
      "text/html": [
       "<table>\n",
       "<thead>\n",
       "<tr><th>#                              </th><th>CountryCode  </th><th>avg_tone              </th><th>goldstein_scale    </th><th>num_events  </th><th>num_articles  </th><th>num_sources  </th></tr>\n",
       "</thead>\n",
       "<tbody>\n",
       "<tr><td><i style='opacity: 0.6'>0</i>  </td><td>BGD          </td><td>-2.5771215139601775   </td><td>-0.6042843026564861</td><td>127512      </td><td>674091        </td><td>129560       </td></tr>\n",
       "<tr><td><i style='opacity: 0.6'>1</i>  </td><td>ISL          </td><td>-0.0018256585989948747</td><td>1.860037906327354  </td><td>6859        </td><td>40095         </td><td>7263         </td></tr>\n",
       "<tr><td><i style='opacity: 0.6'>2</i>  </td><td>LKA          </td><td>-1.087048479400816    </td><td>0.9043083070003989 </td><td>30035       </td><td>146055        </td><td>30358        </td></tr>\n",
       "<tr><td><i style='opacity: 0.6'>3</i>  </td><td>--           </td><td>-0.6448759225295404   </td><td>1.172614195732347  </td><td>46622695    </td><td>308783364     </td><td>48665065     </td></tr>\n",
       "<tr><td><i style='opacity: 0.6'>4</i>  </td><td>LAO          </td><td>1.8962880242369904    </td><td>2.273037651502637  </td><td>3134        </td><td>13217         </td><td>3170         </td></tr>\n",
       "<tr><td>...                            </td><td>...          </td><td>...                   </td><td>...                </td><td>...         </td><td>...           </td><td>...          </td></tr>\n",
       "<tr><td><i style='opacity: 0.6'>218</i></td><td>DEU          </td><td>-0.6279299096457766   </td><td>1.3719638834396994 </td><td>213974      </td><td>1094946       </td><td>222062       </td></tr>\n",
       "<tr><td><i style='opacity: 0.6'>219</i></td><td>ZMB          </td><td>-0.26320593117889995  </td><td>1.3666059289372745 </td><td>14269       </td><td>60188         </td><td>14484        </td></tr>\n",
       "<tr><td><i style='opacity: 0.6'>220</i></td><td>GAB          </td><td>-0.6124123126348074   </td><td>1.4434995912472341 </td><td>1223        </td><td>6869          </td><td>1259         </td></tr>\n",
       "<tr><td><i style='opacity: 0.6'>221</i></td><td>IDN          </td><td>-0.6047364363786888   </td><td>1.081597518534305  </td><td>121864      </td><td>762309        </td><td>124410       </td></tr>\n",
       "<tr><td><i style='opacity: 0.6'>222</i></td><td>HKG          </td><td>1.491690282404208     </td><td>2.494808743169399  </td><td>366         </td><td>2563          </td><td>369          </td></tr>\n",
       "</tbody>\n",
       "</table>"
      ],
      "text/plain": [
       "#    CountryCode    avg_tone                goldstein_scale      num_events    num_articles    num_sources\n",
       "0    BGD            -2.5771215139601775     -0.6042843026564861  127512        674091          129560\n",
       "1    ISL            -0.0018256585989948747  1.860037906327354    6859          40095           7263\n",
       "2    LKA            -1.087048479400816      0.9043083070003989   30035         146055          30358\n",
       "3    --             -0.6448759225295404     1.172614195732347    46622695      308783364       48665065\n",
       "4    LAO            1.8962880242369904      2.273037651502637    3134          13217           3170\n",
       "...  ...            ...                     ...                  ...           ...             ...\n",
       "218  DEU            -0.6279299096457766     1.3719638834396994   213974        1094946         222062\n",
       "219  ZMB            -0.26320593117889995    1.3666059289372745   14269         60188           14484\n",
       "220  GAB            -0.6124123126348074     1.4434995912472341   1223          6869            1259\n",
       "221  IDN            -0.6047364363786888     1.081597518534305    121864        762309          124410\n",
       "222  HKG            1.491690282404208       2.494808743169399    366           2563            369"
      ]
     },
     "execution_count": 27,
     "metadata": {},
     "output_type": "execute_result"
    }
   ],
   "source": [
    "# Here we begin to eagarly compute the quantities of interes\n",
    "with vaex.progress.tree('rich'):\n",
    "    \n",
    "    # Calculating some global statistics\n",
    "\n",
    "    # Total number of events\n",
    "    total_events = dff.count(delay=True)\n",
    "    \n",
    "    # Average Tone and Goldstein factor\n",
    "    avg_stats = dff.mean([dff.AvgTone, dff.GoldsteinScale], delay=True)\n",
    "    \n",
    "    # Total number of sources and articles\n",
    "    total_stats = dff.sum([dff.NumSources, dff.NumArticles], delay=True)\n",
    "    \n",
    "    # Now calculate the same per country\n",
    "    # Define the aggregators per country\n",
    "    aggs_country = {'counts': 'count',\n",
    "                    'avg_tone_sum': vaex.agg.sum(dff.AvgTone),\n",
    "                    'goldstein_scale_sum': vaex.agg.sum(dff.GoldsteinScale),\n",
    "                    'num_articles': vaex.agg.sum(dff.NumArticles),\n",
    "                    'num_sources': vaex.agg.sum(dff.NumSources)}\n",
    "    \n",
    "    # There there can be two actors per article so we are doing this twice!\n",
    "    gdf1 = dff.groupby(dff.Actor1CountryCode, delay=True)\n",
    "    gdf2 = dff.groupby(dff.Actor2CountryCode, delay=True)\n",
    "    \n",
    "    # This executes the delayed evaluations!\n",
    "    dff.execute()\n",
    "    \n",
    "    # `get` the results of the delayed evaluations\n",
    "    total_events = total_events.get()\n",
    "    avg_stats = avg_stats.get()\n",
    "    total_stats = total_stats.get()\n",
    "    \n",
    "    # The same for the grouped dataframes and now do the aggregations\n",
    "    gdf1 = gdf1.get().agg(aggs_country)\n",
    "    gdf2 = gdf2.get().agg(aggs_country)\n",
    "    \n",
    "    # Rename - it is done in place\n",
    "    gdf1.rename('Actor1CountryCode', 'CountryCode');\n",
    "    gdf2.rename('Actor2CountryCode', 'CountryCode');\n",
    "    \n",
    "    # Merge the two grouped DataFrames\n",
    "    gdf = vaex.concat((gdf1, gdf2))\n",
    "\n",
    "    # Combine the statistics\n",
    "    aggs_country_combine = {'avg_tone': vaex.agg.sum('avg_tone_sum') / vaex.agg.sum('counts'),\n",
    "                            'avg_tone': vaex.agg.sum('avg_tone_sum') / vaex.agg.sum('counts'),\n",
    "                            'goldstein_scale': vaex.agg.sum('goldstein_scale_sum') / vaex.agg.sum('counts'),\n",
    "                            'num_events': vaex.agg.sum('counts'),\n",
    "                            'num_articles': vaex.agg.sum('num_articles'),\n",
    "                            'num_sources': vaex.agg.sum('num_sources')}\n",
    "    gdf = gdf.groupby('CountryCode').agg(aggs_country_combine)\n",
    "    \n",
    "    \n",
    "\n",
    "\n",
    "print(f'Total events: {total_events:,}')\n",
    "print()\n",
    "print(f'Average Tone: {avg_stats[0]:.3f}; Average GoldStein value: {avg_stats[1]:.3f}')\n",
    "print()\n",
    "print(f'Total number of sources: {total_stats[0]:,}; Total number of articles: {total_stats[1]:,}')\n",
    "print()\n",
    "gdf"
   ]
  },
  {
   "cell_type": "markdown",
   "id": "54804f83",
   "metadata": {},
   "source": [
    "### Caching"
   ]
  },
  {
   "cell_type": "code",
   "execution_count": 28,
   "id": "b0dc72fd",
   "metadata": {
    "ExecuteTime": {
     "end_time": "2022-12-02T19:48:45.637729Z",
     "start_time": "2022-12-02T19:48:45.633730Z"
    }
   },
   "outputs": [
    {
     "data": {
      "text/plain": [
       "<cache restore context manager>"
      ]
     },
     "execution_count": 28,
     "metadata": {},
     "output_type": "execute_result"
    }
   ],
   "source": [
    "# Turn vaex caching globally.\n",
    "vaex.cache.on()"
   ]
  },
  {
   "cell_type": "code",
   "execution_count": 29,
   "id": "89565639",
   "metadata": {
    "ExecuteTime": {
     "end_time": "2022-12-02T19:48:53.487986Z",
     "start_time": "2022-12-02T19:48:53.483906Z"
    }
   },
   "outputs": [
    {
     "data": {
      "text/plain": [
       "True"
      ]
     },
     "execution_count": 29,
     "metadata": {},
     "output_type": "execute_result"
    }
   ],
   "source": [
    "# Verify that caching is on\n",
    "vaex.cache.is_on()"
   ]
  },
  {
   "cell_type": "code",
   "execution_count": 31,
   "id": "7f09dcf3",
   "metadata": {
    "ExecuteTime": {
     "end_time": "2022-12-02T19:49:11.085995Z",
     "start_time": "2022-12-02T19:49:10.432469Z"
    }
   },
   "outputs": [
    {
     "data": {
      "application/vnd.jupyter.widget-view+json": {
       "model_id": "2895bc315bfe4ad5bb6a1151d66843ea",
       "version_major": 2,
       "version_minor": 0
      },
      "text/plain": [
       "Output()"
      ]
     },
     "metadata": {},
     "output_type": "display_data"
    },
    {
     "data": {
      "text/html": [
       "<pre style=\"white-space:pre;overflow-x:auto;line-height:normal;font-family:Menlo,'DejaVu Sans Mono',consolas,'Courier New',monospace\"></pre>\n"
      ],
      "text/plain": []
     },
     "metadata": {},
     "output_type": "display_data"
    },
    {
     "name": "stdout",
     "output_type": "stream",
     "text": [
      "Total events: 32,788,236\n",
      "\n",
      "Average Tone: -0.643; Average GoldStein value: 1.175\n",
      "\n",
      "Total number of sources: 34,306,638; Total number of articles: 197,539,032\n",
      "\n"
     ]
    },
    {
     "data": {
      "text/html": [
       "<table>\n",
       "<thead>\n",
       "<tr><th>#                              </th><th>CountryCode  </th><th>avg_tone              </th><th>goldstein_scale    </th><th>num_events  </th><th>num_articles  </th><th>num_sources  </th></tr>\n",
       "</thead>\n",
       "<tbody>\n",
       "<tr><td><i style='opacity: 0.6'>0</i>  </td><td>LKA          </td><td>-1.0870484794008164   </td><td>0.9043083070003993 </td><td>30035       </td><td>146055        </td><td>30358        </td></tr>\n",
       "<tr><td><i style='opacity: 0.6'>1</i>  </td><td>BGD          </td><td>-2.5771215139601784   </td><td>-0.6042843026564861</td><td>127512      </td><td>674091        </td><td>129560       </td></tr>\n",
       "<tr><td><i style='opacity: 0.6'>2</i>  </td><td>ISL          </td><td>-0.0018256585989949038</td><td>1.8600379063273538 </td><td>6859        </td><td>40095         </td><td>7263         </td></tr>\n",
       "<tr><td><i style='opacity: 0.6'>3</i>  </td><td>--           </td><td>-0.644875922529541    </td><td>1.172614195732361  </td><td>46622695    </td><td>308783364     </td><td>48665065     </td></tr>\n",
       "<tr><td><i style='opacity: 0.6'>4</i>  </td><td>LAO          </td><td>1.8962880242369904    </td><td>2.273037651502637  </td><td>3134        </td><td>13217         </td><td>3170         </td></tr>\n",
       "<tr><td>...                            </td><td>...          </td><td>...                   </td><td>...                </td><td>...         </td><td>...           </td><td>...          </td></tr>\n",
       "<tr><td><i style='opacity: 0.6'>218</i></td><td>DEU          </td><td>-0.6279299096457762   </td><td>1.3719638834396994 </td><td>213974      </td><td>1094946       </td><td>222062       </td></tr>\n",
       "<tr><td><i style='opacity: 0.6'>219</i></td><td>ZMB          </td><td>-0.2632059311788999   </td><td>1.3666059289372747 </td><td>14269       </td><td>60188         </td><td>14484        </td></tr>\n",
       "<tr><td><i style='opacity: 0.6'>220</i></td><td>GAB          </td><td>-0.6124123126348074   </td><td>1.4434995912472341 </td><td>1223        </td><td>6869          </td><td>1259         </td></tr>\n",
       "<tr><td><i style='opacity: 0.6'>221</i></td><td>IDN          </td><td>-0.6047364363786885   </td><td>1.081597518534305  </td><td>121864      </td><td>762309        </td><td>124410       </td></tr>\n",
       "<tr><td><i style='opacity: 0.6'>222</i></td><td>HKG          </td><td>1.491690282404208     </td><td>2.494808743169399  </td><td>366         </td><td>2563          </td><td>369          </td></tr>\n",
       "</tbody>\n",
       "</table>"
      ],
      "text/plain": [
       "#    CountryCode    avg_tone                goldstein_scale      num_events    num_articles    num_sources\n",
       "0    LKA            -1.0870484794008164     0.9043083070003993   30035         146055          30358\n",
       "1    BGD            -2.5771215139601784     -0.6042843026564861  127512        674091          129560\n",
       "2    ISL            -0.0018256585989949038  1.8600379063273538   6859          40095           7263\n",
       "3    --             -0.644875922529541      1.172614195732361    46622695      308783364       48665065\n",
       "4    LAO            1.8962880242369904      2.273037651502637    3134          13217           3170\n",
       "...  ...            ...                     ...                  ...           ...             ...\n",
       "218  DEU            -0.6279299096457762     1.3719638834396994   213974        1094946         222062\n",
       "219  ZMB            -0.2632059311788999     1.3666059289372747   14269         60188           14484\n",
       "220  GAB            -0.6124123126348074     1.4434995912472341   1223          6869            1259\n",
       "221  IDN            -0.6047364363786885     1.081597518534305    121864        762309          124410\n",
       "222  HKG            1.491690282404208       2.494808743169399    366           2563            369"
      ]
     },
     "execution_count": 31,
     "metadata": {},
     "output_type": "execute_result"
    }
   ],
   "source": [
    "# Here we begin to eagarly compute the quantities of interes\n",
    "with vaex.progress.tree('rich'):\n",
    "    \n",
    "    # Calculating some global statistics\n",
    "\n",
    "    # Total number of events\n",
    "    total_events = dff.count(delay=True)\n",
    "    \n",
    "    # Average Tone and Goldstein factor\n",
    "    avg_stats = dff.mean([dff.AvgTone, dff.GoldsteinScale], delay=True)\n",
    "    \n",
    "    # Total number of sources and articles\n",
    "    total_stats = dff.sum([dff.NumSources, dff.NumArticles], delay=True)\n",
    "    \n",
    "    # Now calculate the same per country\n",
    "    # Define the aggregators per country\n",
    "    aggs_country = {'counts': 'count',\n",
    "                    'avg_tone_sum': vaex.agg.sum(dff.AvgTone),\n",
    "                    'goldstein_scale_sum': vaex.agg.sum(dff.GoldsteinScale),\n",
    "                    'num_articles': vaex.agg.sum(dff.NumArticles),\n",
    "                    'num_sources': vaex.agg.sum(dff.NumSources)}\n",
    "    \n",
    "    # There there can be two actors per article so we are doing this twice!\n",
    "    gdf1 = dff.groupby(dff.Actor1CountryCode, delay=True)\n",
    "    gdf2 = dff.groupby(dff.Actor2CountryCode, delay=True)\n",
    "    \n",
    "    # This executes the delayed evaluations!\n",
    "    dff.execute()\n",
    "    \n",
    "    # `get` the results of the delayed evaluations\n",
    "    total_events = total_events.get()\n",
    "    avg_stats = avg_stats.get()\n",
    "    total_stats = total_stats.get()\n",
    "    \n",
    "    # The same for the grouped dataframes and now do the aggregations\n",
    "    gdf1 = gdf1.get().agg(aggs_country)\n",
    "    gdf2 = gdf2.get().agg(aggs_country)\n",
    "    \n",
    "    # Rename - it is done in place\n",
    "    gdf1.rename('Actor1CountryCode', 'CountryCode');\n",
    "    gdf2.rename('Actor2CountryCode', 'CountryCode');\n",
    "    \n",
    "    # Merge the two grouped DataFrames\n",
    "    gdf = vaex.concat((gdf1, gdf2))\n",
    "\n",
    "    # Combine the statistics\n",
    "    aggs_country_combine = {'avg_tone': vaex.agg.sum('avg_tone_sum') / vaex.agg.sum('counts'),\n",
    "                            'avg_tone': vaex.agg.sum('avg_tone_sum') / vaex.agg.sum('counts'),\n",
    "                            'goldstein_scale': vaex.agg.sum('goldstein_scale_sum') / vaex.agg.sum('counts'),\n",
    "                            'num_events': vaex.agg.sum('counts'),\n",
    "                            'num_articles': vaex.agg.sum('num_articles'),\n",
    "                            'num_sources': vaex.agg.sum('num_sources')}\n",
    "    gdf = gdf.groupby('CountryCode').agg(aggs_country_combine)\n",
    "    \n",
    "    \n",
    "\n",
    "\n",
    "print(f'Total events: {total_events:,}')\n",
    "print()\n",
    "print(f'Average Tone: {avg_stats[0]:.3f}; Average GoldStein value: {avg_stats[1]:.3f}')\n",
    "print()\n",
    "print(f'Total number of sources: {total_stats[0]:,}; Total number of articles: {total_stats[1]:,}')\n",
    "print()\n",
    "gdf"
   ]
  },
  {
   "cell_type": "markdown",
   "id": "47b0d41e",
   "metadata": {},
   "source": [
    "## Lets turn this into a nice data app!"
   ]
  },
  {
   "cell_type": "code",
   "execution_count": 32,
   "id": "a3af2586",
   "metadata": {
    "ExecuteTime": {
     "end_time": "2022-12-02T19:50:05.320176Z",
     "start_time": "2022-12-02T19:50:05.310894Z"
    }
   },
   "outputs": [],
   "source": [
    "def compute_data(filter):\n",
    "    \n",
    "    # Apply the filter\n",
    "    dff = df.filter(filter)\n",
    "    \n",
    "    # Calculating some global statistics\n",
    "\n",
    "    # Total number of events\n",
    "    total_events = dff.count(delay=True)\n",
    "    \n",
    "    # Average Tone and Goldstein factor\n",
    "    avg_stats = dff.mean([dff.AvgTone, dff.GoldsteinScale], delay=True)\n",
    "    \n",
    "    # Total number of sources and articles\n",
    "    total_stats = dff.sum([dff.NumSources, dff.NumArticles], delay=True)\n",
    "    \n",
    "    # Now calculate the same per country\n",
    "    # Define the aggregators per country\n",
    "    aggs_country = {'counts': 'count',\n",
    "                    'avg_tone_sum': vaex.agg.sum(dff.AvgTone),\n",
    "                    'goldstein_scale_sum': vaex.agg.sum(dff.GoldsteinScale),\n",
    "                    'num_articles': vaex.agg.sum(dff.NumArticles),\n",
    "                    'num_sources': vaex.agg.sum(dff.NumSources)}\n",
    "    \n",
    "    # There there can be two actors per article so we are doing this twice!\n",
    "    gdf1 = dff.groupby(dff.Actor1CountryCode, delay=True)\n",
    "    gdf2 = dff.groupby(dff.Actor2CountryCode, delay=True)\n",
    "    \n",
    "    # This executes the delayed evaluations!\n",
    "    dff.execute()\n",
    "    \n",
    "    # `get` the results of the delayed evaluations\n",
    "    total_events = total_events.get()\n",
    "    avg_stats = avg_stats.get()\n",
    "    total_stats = total_stats.get()\n",
    "    \n",
    "    # The same for the grouped dataframes and now do the aggregations\n",
    "    gdf1 = gdf1.get().agg(aggs_country)\n",
    "    gdf2 = gdf2.get().agg(aggs_country)\n",
    "    \n",
    "    # Rename - it is done in place\n",
    "    gdf1.rename('Actor1CountryCode', 'CountryCode');\n",
    "    gdf2.rename('Actor2CountryCode', 'CountryCode');\n",
    "    \n",
    "    # Merge the two grouped DataFrames\n",
    "    gdf = vaex.concat((gdf1, gdf2))\n",
    "\n",
    "    # Combine the statistics\n",
    "    aggs_country_combine = {'avg_tone': vaex.agg.sum('avg_tone_sum') / vaex.agg.sum('counts'),\n",
    "                            'avg_tone': vaex.agg.sum('avg_tone_sum') / vaex.agg.sum('counts'),\n",
    "                            'goldstein_scale': vaex.agg.sum('goldstein_scale_sum') / vaex.agg.sum('counts'),\n",
    "                            'num_events': vaex.agg.sum('counts'),\n",
    "                            'num_articles': vaex.agg.sum('num_articles'),\n",
    "                            'num_sources': vaex.agg.sum('num_sources')}\n",
    "    gdf = gdf.groupby('CountryCode').agg(aggs_country_combine)\n",
    "    \n",
    "    return total_events, avg_stats, total_stats, gdf"
   ]
  },
  {
   "cell_type": "code",
   "execution_count": 33,
   "id": "748f0f11",
   "metadata": {
    "ExecuteTime": {
     "end_time": "2022-12-02T19:50:09.896923Z",
     "start_time": "2022-12-02T19:50:09.601372Z"
    }
   },
   "outputs": [
    {
     "data": {
      "text/plain": [
       "(array(32788236),\n",
       " array([-0.64289706,  1.17460366]),\n",
       " array([ 34306638, 197539032]),\n",
       " #    CountryCode    avg_tone                goldstein_scale      num_events    num_articles    num_sources\n",
       " 0    LKA            -1.0870484794008164     0.9043083070003993   30035         146055          30358\n",
       " 1    BGD            -2.5771215139601784     -0.6042843026564861  127512        674091          129560\n",
       " 2    ISL            -0.0018256585989949038  1.8600379063273538   6859          40095           7263\n",
       " 3    --             -0.644875922529541      1.172614195732361    46622695      308783364       48665065\n",
       " 4    LAO            1.8962880242369904      2.273037651502637    3134          13217           3170\n",
       " ...  ...            ...                     ...                  ...           ...             ...\n",
       " 218  DEU            -0.6279299096457762     1.3719638834396994   213974        1094946         222062\n",
       " 219  ZMB            -0.2632059311788999     1.3666059289372747   14269         60188           14484\n",
       " 220  GAB            -0.6124123126348074     1.4434995912472341   1223          6869            1259\n",
       " 221  IDN            -0.6047364363786885     1.081597518534305    121864        762309          124410\n",
       " 222  HKG            1.491690282404208       2.494808743169399    366           2563            369)"
      ]
     },
     "execution_count": 33,
     "metadata": {},
     "output_type": "execute_result"
    }
   ],
   "source": [
    "# Try it out\n",
    "compute_data(my_filter)"
   ]
  },
  {
   "cell_type": "code",
   "execution_count": 34,
   "id": "1161c8e9",
   "metadata": {
    "ExecuteTime": {
     "end_time": "2022-12-02T19:50:16.448664Z",
     "start_time": "2022-12-02T19:50:16.251627Z"
    }
   },
   "outputs": [],
   "source": [
    "import plotly.express as px\n",
    "import plotly.graph_objects as go\n",
    "\n",
    "def create_world_map(df):\n",
    "    fig = px.choropleth(data_frame=df.to_pandas_df(),\n",
    "              locations='CountryCode',\n",
    "              color='avg_tone',\n",
    "              color_continuous_scale='viridis_r',\n",
    "              hover_data=['num_events', 'num_articles', 'num_sources', 'goldstein_scale'])\n",
    "\n",
    "    hovertempate ='''<b>Country: %{location}</b><br>\n",
    "\n",
    "    <br>Total events: %{customdata[0]:.3s}\n",
    "    <br>Total articles: %{customdata[1]:.3s}\n",
    "    <br>Total sources: %{customdata[2]:.3s}\n",
    "    <br>Mean Tone: %{z:.2f}\n",
    "    <br>Mean Goldstein scale: %{customdata[3]:.2f}\n",
    "    '''\n",
    "    with fig.batch_update():\n",
    "        fig.update_layout(coloraxis_showscale=False)\n",
    "        fig.update_layout(width=1000)\n",
    "        fig.update_layout(margin=go.layout.Margin(l=0, r=0, b=0, t=0),)\n",
    "        fig.update_xaxes(showticklabels=False)\n",
    "        fig.update_yaxes(showticklabels=False)\n",
    "        fig.update_traces(hovertemplate=hovertempate)\n",
    "        fig.update_layout(geo=go.layout.Geo(projection=go.layout.geo.Projection(type='natural earth')))\n",
    "        fig.update_layout(coloraxis_showscale=False)\n",
    "    return fig\n",
    "\n",
    "\n",
    "def get_actor_code_descriptions(codes):\n",
    "    '''Helper function to display the selected actor codes'''\n",
    "    x = ''\n",
    "    for code in codes:\n",
    "        x += f' - {code}: {actor_codes.get(code)} \\n'\n",
    "    return x"
   ]
  },
  {
   "cell_type": "markdown",
   "id": "e9908009",
   "metadata": {},
   "source": [
    "### Using `solara` - but you can use any data app framework in Python!"
   ]
  },
  {
   "cell_type": "code",
   "execution_count": 35,
   "id": "56b9129b",
   "metadata": {
    "ExecuteTime": {
     "end_time": "2022-12-02T19:50:30.653694Z",
     "start_time": "2022-12-02T19:50:30.460584Z"
    }
   },
   "outputs": [],
   "source": [
    "import solara\n",
    "\n",
    "import humanize   # For nice formatting of long numbers"
   ]
  },
  {
   "cell_type": "code",
   "execution_count": 36,
   "id": "b96547ac",
   "metadata": {
    "ExecuteTime": {
     "end_time": "2022-12-02T19:50:33.576352Z",
     "start_time": "2022-12-02T19:50:33.567600Z"
    }
   },
   "outputs": [],
   "source": [
    "@solara.component\n",
    "def Page():\n",
    "    \n",
    "    # Initial state\n",
    "    codes, set_codes = solara.use_state(['EDU'])\n",
    "    years, set_years = solara.use_state([2014, 2022])\n",
    "    \n",
    "    \n",
    "    # Computations\n",
    "    my_filter = create_filter(codes=codes, year_min=years[0], year_max=years[1])\n",
    "    total_events, avg_stats, total_stats, gdf = compute_data(my_filter)\n",
    "    fig = create_world_map(gdf)\n",
    "    selected_codes_md = get_actor_code_descriptions(codes)\n",
    "    \n",
    "    \n",
    "    # Layout of the app - the components:\n",
    "    with solara.VBox() as main:\n",
    "        solara.Title('GDelt Explorer')  # See the tab title!\n",
    "        \n",
    "        solara.Markdown('# GDELT data explorer:')\n",
    "        solara.Markdown('#')\n",
    "        solara.Markdown('#')\n",
    "        solara.Markdown('#')\n",
    "        \n",
    "        with solara.HBox():\n",
    "            solara.SelectMultiple(label='Select actor codes', \n",
    "                                  values=codes, \n",
    "                                  all_values=list(actor_codes.keys()), \n",
    "                                  on_value=set_codes)    \n",
    "\n",
    "            solara.SliderRangeInt(label='Select year range', \n",
    "                                  value=years, \n",
    "                                  min=2014, max=2022, on_value=set_years)\n",
    "        \n",
    "        solara.Markdown('### Selected Actor Codes:')\n",
    "        solara.Markdown(selected_codes_md)\n",
    "        solara.Markdown('')\n",
    "    \n",
    "        with solara.HBox():\n",
    "            solara.Card(f'Events: {humanize.metric(total_events.item())}''')\n",
    "            solara.Card(f'Sources: {humanize.metric(total_stats[0])}''')\n",
    "            solara.Card(f'Articles: {humanize.metric(total_stats[1])}''')\n",
    "            solara.Card(f'Tone: {avg_stats[0]:.3f}''')\n",
    "            solara.Card(f'Goldstein: {avg_stats[1]:.3f}''')\n",
    "        solara.Markdown('# ')\n",
    "            \n",
    "        solara.FigurePlotly(fig)\n",
    "    \n",
    "    return main\n"
   ]
  },
  {
   "cell_type": "code",
   "execution_count": 37,
   "id": "8127eb86",
   "metadata": {
    "ExecuteTime": {
     "end_time": "2022-12-02T19:50:47.396078Z",
     "start_time": "2022-12-02T19:50:39.368392Z"
    },
    "scrolled": false
   },
   "outputs": [
    {
     "data": {
      "application/vnd.jupyter.widget-view+json": {
       "model_id": "aae494a892e24dfe87eac11cd006c273",
       "version_major": 2,
       "version_minor": 0
      },
      "text/html": [
       "Cannot show widget. You probably want to rerun the code cell above (<i>Click in the code cell, and press Shift+Enter <kbd>⇧</kbd>+<kbd>↩</kbd></i>)."
      ],
      "text/plain": [
       "Cannot show ipywidgets in text"
      ]
     },
     "metadata": {},
     "output_type": "display_data"
    }
   ],
   "source": [
    "# Let's see the app!\n",
    "Page()"
   ]
  },
  {
   "cell_type": "markdown",
   "id": "39ac6e81",
   "metadata": {},
   "source": [
    "### We can wrap the above code in a couple of functions and present the results in a nice dashboard via your favorite tools\n",
    "\n",
    "## See: [streamlit.vaex.io](https://streamlit.vaex.io/)"
   ]
  },
  {
   "cell_type": "markdown",
   "id": "be730e48",
   "metadata": {},
   "source": [
    "## Thanks! <3"
   ]
  }
 ],
 "metadata": {
  "kernelspec": {
   "display_name": "Python 3 (ipykernel)",
   "language": "python",
   "name": "python3"
  },
  "language_info": {
   "codemirror_mode": {
    "name": "ipython",
    "version": 3
   },
   "file_extension": ".py",
   "mimetype": "text/x-python",
   "name": "python",
   "nbconvert_exporter": "python",
   "pygments_lexer": "ipython3",
   "version": "3.9.13"
  }
 },
 "nbformat": 4,
 "nbformat_minor": 5
}
