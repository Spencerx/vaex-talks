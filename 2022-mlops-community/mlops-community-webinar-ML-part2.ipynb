{
 "cells": [
  {
   "cell_type": "markdown",
   "id": "6b30f488",
   "metadata": {
    "ExecuteTime": {
     "end_time": "2022-03-28T13:02:23.598003Z",
     "start_time": "2022-03-28T13:02:23.589590Z"
    }
   },
   "source": [
    "[<img src=\"ml_impossible.png\">](https://towardsdatascience.com/ml-impossible-train-a-1-billion-sample-model-in-20-minutes-with-vaex-and-scikit-learn-on-your-9e2968e6f385)"
   ]
  },
  {
   "cell_type": "markdown",
   "id": "79bdc7d3",
   "metadata": {},
   "source": [
    "# `vaex` @ MLOps community\n",
    "\n",
    "## Modern data science with `vaex`: a new approach to DataFrames and pipelines\n",
    "\n",
    "### New York Taxi Dataset (2009-2015): Exploratory Data Analysis and Machine Learning example (Part II)\n",
    "\n",
    "https://www1.nyc.gov/site/tlc/about/tlc-trip-record-data.page"
   ]
  },
  {
   "cell_type": "code",
   "execution_count": 1,
   "id": "dc992741",
   "metadata": {
    "ExecuteTime": {
     "end_time": "2022-04-13T17:05:38.323889Z",
     "start_time": "2022-04-13T17:05:36.814057Z"
    }
   },
   "outputs": [],
   "source": [
    "import vaex\n",
    "import vaex.ml\n",
    "\n",
    "import warnings; warnings.simplefilter('ignore')"
   ]
  },
  {
   "cell_type": "markdown",
   "id": "67004f05",
   "metadata": {},
   "source": [
    "### ~Load~ Point to the data on disk"
   ]
  },
  {
   "cell_type": "code",
   "execution_count": 2,
   "id": "4de974c5",
   "metadata": {
    "ExecuteTime": {
     "end_time": "2022-04-13T17:05:42.662408Z",
     "start_time": "2022-04-13T17:05:41.603674Z"
    }
   },
   "outputs": [
    {
     "name": "stdout",
     "output_type": "stream",
     "text": [
      "108G\t/data/yellow_taxi_2009_2015_f32.hdf5\r\n",
      "28G\t/data/yellow_taxi_2009_2015_f32.parquet\r\n",
      "164G\t/data/yellow_taxi_2009_2015.hdf5\r\n",
      "12G\t/data/yellow_taxi_2015_f32.arrow\r\n",
      "12G\t/data/yellow_taxi_2015_f32.hdf5\r\n"
     ]
    }
   ],
   "source": [
    "# Check file size on disk\n",
    "!du -h /data/yellow_taxi_*\n",
    "\n",
    "# Read the same file as before\n",
    "# df = vaex.open('/data/taxi/yellow_taxi_2012.hdf5')\n",
    "df = vaex.open('/data/yellow_taxi_2009_2015_f32.hdf5')"
   ]
  },
  {
   "cell_type": "markdown",
   "id": "453f3fdb",
   "metadata": {},
   "source": [
    "### Get the test set"
   ]
  },
  {
   "cell_type": "code",
   "execution_count": 3,
   "id": "77b3af81",
   "metadata": {
    "ExecuteTime": {
     "end_time": "2022-04-13T17:05:45.362611Z",
     "start_time": "2022-04-13T17:05:45.356975Z"
    }
   },
   "outputs": [
    {
     "name": "stdout",
     "output_type": "stream",
     "text": [
      "Number of samples in the full dataset: 1,173,057,927\n",
      "Number of samples in the training set: 1,026,944,937\n",
      "Number of samples in the test set:      146,112,990\n"
     ]
    }
   ],
   "source": [
    "df_train = df[:1_026_944_937]\n",
    "df_test = df[1_026_944_937:]\n",
    "\n",
    "print(f'Number of samples in the full dataset: {len(df):,}')\n",
    "print(f'Number of samples in the training set: {len(df_train):,}')\n",
    "print(f'Number of samples in the test set:      {len(df_test):,}')\n",
    "\n",
    "# Check if the lengths of the datasets match\n",
    "assert len(df) == len(df_test) + len(df_train)"
   ]
  },
  {
   "cell_type": "markdown",
   "id": "e5b47977",
   "metadata": {},
   "source": [
    "### Inspect the test set"
   ]
  },
  {
   "cell_type": "code",
   "execution_count": 4,
   "id": "2d8e4836",
   "metadata": {
    "ExecuteTime": {
     "end_time": "2022-04-13T17:05:51.752700Z",
     "start_time": "2022-04-13T17:05:51.015571Z"
    }
   },
   "outputs": [
    {
     "data": {
      "text/html": [
       "<table>\n",
       "<thead>\n",
       "<tr><th>#                                      </th><th>vendor_id  </th><th>pickup_datetime              </th><th>dropoff_datetime             </th><th>passenger_count  </th><th>payment_type  </th><th>trip_distance  </th><th>pickup_longitude  </th><th>pickup_latitude  </th><th>rate_code  </th><th>store_and_fwd_flag  </th><th>dropoff_longitude  </th><th>dropoff_latitude  </th><th>fare_amount  </th><th>surcharge  </th><th>mta_tax  </th><th>tip_amount  </th><th>tolls_amount  </th><th>total_amount  </th></tr>\n",
       "</thead>\n",
       "<tbody>\n",
       "<tr><td><i style='opacity: 0.6'>0</i>          </td><td>VTS        </td><td>2014-12-15 18:23:00.000000000</td><td>2014-12-15 18:58:00.000000000</td><td>2                </td><td>              </td><td>6.28           </td><td>-74.00419         </td><td>40.72119         </td><td>1.0        </td><td>nan                 </td><td>-73.97             </td><td>nan               </td><td>nan          </td><td>nan        </td><td>nan      </td><td>nan         </td><td>nan           </td><td>nan           </td></tr>\n",
       "<tr><td><i style='opacity: 0.6'>1</i>          </td><td>VTS        </td><td>2015-01-15 19:05:39.000000000</td><td>2015-01-15 19:23:42.000000000</td><td>1                </td><td>1             </td><td>1.59           </td><td>-73.9939          </td><td>40.75011         </td><td>1.0        </td><td>0.0                 </td><td>-73.974785         </td><td>40.750618         </td><td>12.0         </td><td>1.0        </td><td>0.5      </td><td>3.25        </td><td>0.0           </td><td>17.05         </td></tr>\n",
       "<tr><td><i style='opacity: 0.6'>2</i>          </td><td>CMT        </td><td>2015-01-10 20:33:38.000000000</td><td>2015-01-10 20:53:28.000000000</td><td>1                </td><td>1             </td><td>3.3            </td><td>-74.00165         </td><td>40.724243        </td><td>1.0        </td><td>0.0                 </td><td>-73.994415         </td><td>40.75911          </td><td>14.5         </td><td>0.5        </td><td>0.5      </td><td>2.0         </td><td>0.0           </td><td>17.8          </td></tr>\n",
       "<tr><td><i style='opacity: 0.6'>3</i>          </td><td>CMT        </td><td>2015-01-10 20:33:38.000000000</td><td>2015-01-10 20:43:41.000000000</td><td>1                </td><td>2             </td><td>1.8            </td><td>-73.96334         </td><td>40.802788        </td><td>1.0        </td><td>0.0                 </td><td>-73.95182          </td><td>40.824413         </td><td>9.5          </td><td>0.5        </td><td>0.5      </td><td>0.0         </td><td>0.0           </td><td>10.8          </td></tr>\n",
       "<tr><td><i style='opacity: 0.6'>4</i>          </td><td>CMT        </td><td>2015-01-10 20:33:39.000000000</td><td>2015-01-10 20:35:31.000000000</td><td>1                </td><td>2             </td><td>0.5            </td><td>-74.00909         </td><td>40.713818        </td><td>1.0        </td><td>0.0                 </td><td>-74.004326         </td><td>40.719986         </td><td>3.5          </td><td>0.5        </td><td>0.5      </td><td>0.0         </td><td>0.0           </td><td>4.8           </td></tr>\n",
       "<tr><td>...                                    </td><td>...        </td><td>...                          </td><td>...                          </td><td>...              </td><td>...           </td><td>...            </td><td>...               </td><td>...              </td><td>...        </td><td>...                 </td><td>...                </td><td>...               </td><td>...          </td><td>...        </td><td>...      </td><td>...         </td><td>...           </td><td>...           </td></tr>\n",
       "<tr><td><i style='opacity: 0.6'>146,112,985</i></td><td>VTS        </td><td>2015-12-31 23:59:56.000000000</td><td>2016-01-01 00:08:18.000000000</td><td>5                </td><td>1             </td><td>1.2            </td><td>-73.99381         </td><td>40.72087         </td><td>1.0        </td><td>0.0                 </td><td>-73.98621          </td><td>40.72247          </td><td>7.5          </td><td>0.5        </td><td>0.5      </td><td>1.76        </td><td>0.0           </td><td>10.56         </td></tr>\n",
       "<tr><td><i style='opacity: 0.6'>146,112,986</i></td><td>CMT        </td><td>2015-12-31 23:59:58.000000000</td><td>2016-01-01 00:05:19.000000000</td><td>2                </td><td>2             </td><td>2.0            </td><td>-73.96527         </td><td>40.76028         </td><td>1.0        </td><td>0.0                 </td><td>-73.939514         </td><td>40.752388         </td><td>7.5          </td><td>0.5        </td><td>0.5      </td><td>0.0         </td><td>0.0           </td><td>8.8           </td></tr>\n",
       "<tr><td><i style='opacity: 0.6'>146,112,987</i></td><td>CMT        </td><td>2015-12-31 23:59:59.000000000</td><td>2016-01-01 00:12:55.000000000</td><td>2                </td><td>2             </td><td>3.8            </td><td>-73.9873          </td><td>40.73908         </td><td>1.0        </td><td>0.0                 </td><td>-73.98867          </td><td>40.6933           </td><td>13.5         </td><td>0.5        </td><td>0.5      </td><td>0.0         </td><td>0.0           </td><td>14.8          </td></tr>\n",
       "<tr><td><i style='opacity: 0.6'>146,112,988</i></td><td>VTS        </td><td>2015-12-31 23:59:59.000000000</td><td>2016-01-01 00:10:26.000000000</td><td>1                </td><td>2             </td><td>1.96           </td><td>-73.99756         </td><td>40.725693        </td><td>1.0        </td><td>0.0                 </td><td>-74.01712          </td><td>40.705322         </td><td>8.5          </td><td>0.5        </td><td>0.5      </td><td>0.0         </td><td>0.0           </td><td>9.8           </td></tr>\n",
       "<tr><td><i style='opacity: 0.6'>146,112,989</i></td><td>VTS        </td><td>2015-12-31 23:59:59.000000000</td><td>2016-01-01 00:21:30.000000000</td><td>1                </td><td>1             </td><td>1.06           </td><td>-73.9844          </td><td>40.767258        </td><td>1.0        </td><td>0.0                 </td><td>-73.99098          </td><td>40.76057          </td><td>13.5         </td><td>0.5        </td><td>0.5      </td><td>2.96        </td><td>0.0           </td><td>17.76         </td></tr>\n",
       "</tbody>\n",
       "</table>"
      ],
      "text/plain": [
       "#            vendor_id    pickup_datetime                dropoff_datetime               passenger_count    payment_type    trip_distance    pickup_longitude    pickup_latitude    rate_code    store_and_fwd_flag    dropoff_longitude    dropoff_latitude    fare_amount    surcharge    mta_tax    tip_amount    tolls_amount    total_amount\n",
       "0            VTS          2014-12-15 18:23:00.000000000  2014-12-15 18:58:00.000000000  2                                  6.28             -74.00419           40.72119           1.0          nan                   -73.97               nan                 nan            nan          nan        nan           nan             nan\n",
       "1            VTS          2015-01-15 19:05:39.000000000  2015-01-15 19:23:42.000000000  1                  1               1.59             -73.9939            40.75011           1.0          0.0                   -73.974785           40.750618           12.0           1.0          0.5        3.25          0.0             17.05\n",
       "2            CMT          2015-01-10 20:33:38.000000000  2015-01-10 20:53:28.000000000  1                  1               3.3              -74.00165           40.724243          1.0          0.0                   -73.994415           40.75911            14.5           0.5          0.5        2.0           0.0             17.8\n",
       "3            CMT          2015-01-10 20:33:38.000000000  2015-01-10 20:43:41.000000000  1                  2               1.8              -73.96334           40.802788          1.0          0.0                   -73.95182            40.824413           9.5            0.5          0.5        0.0           0.0             10.8\n",
       "4            CMT          2015-01-10 20:33:39.000000000  2015-01-10 20:35:31.000000000  1                  2               0.5              -74.00909           40.713818          1.0          0.0                   -74.004326           40.719986           3.5            0.5          0.5        0.0           0.0             4.8\n",
       "...          ...          ...                            ...                            ...                ...             ...              ...                 ...                ...          ...                   ...                  ...                 ...            ...          ...        ...           ...             ...\n",
       "146,112,985  VTS          2015-12-31 23:59:56.000000000  2016-01-01 00:08:18.000000000  5                  1               1.2              -73.99381           40.72087           1.0          0.0                   -73.98621            40.72247            7.5            0.5          0.5        1.76          0.0             10.56\n",
       "146,112,986  CMT          2015-12-31 23:59:58.000000000  2016-01-01 00:05:19.000000000  2                  2               2.0              -73.96527           40.76028           1.0          0.0                   -73.939514           40.752388           7.5            0.5          0.5        0.0           0.0             8.8\n",
       "146,112,987  CMT          2015-12-31 23:59:59.000000000  2016-01-01 00:12:55.000000000  2                  2               3.8              -73.9873            40.73908           1.0          0.0                   -73.98867            40.6933             13.5           0.5          0.5        0.0           0.0             14.8\n",
       "146,112,988  VTS          2015-12-31 23:59:59.000000000  2016-01-01 00:10:26.000000000  1                  2               1.96             -73.99756           40.725693          1.0          0.0                   -74.01712            40.705322           8.5            0.5          0.5        0.0           0.0             9.8\n",
       "146,112,989  VTS          2015-12-31 23:59:59.000000000  2016-01-01 00:21:30.000000000  1                  1               1.06             -73.9844            40.767258          1.0          0.0                   -73.99098            40.76057            13.5           0.5          0.5        2.96          0.0             17.76"
      ]
     },
     "execution_count": 4,
     "metadata": {},
     "output_type": "execute_result"
    }
   ],
   "source": [
    "df_test"
   ]
  },
  {
   "cell_type": "markdown",
   "id": "central-crazy",
   "metadata": {},
   "source": [
    "### Apply the state to the test DataFrame"
   ]
  },
  {
   "cell_type": "code",
   "execution_count": 5,
   "id": "numeric-second",
   "metadata": {
    "ExecuteTime": {
     "end_time": "2022-04-13T17:06:05.964631Z",
     "start_time": "2022-04-13T17:06:04.775730Z"
    }
   },
   "outputs": [],
   "source": [
    "# df_test.state_load('./taxi_ml_state.json')  # if the state file is local\n",
    "\n",
    "fs_options = {'token': '/home/jovan/.keys/vaex-282913-a6370a7624ec.json', 'cache': False}\n",
    "df_test.state_load('gs://vaex-data/demo/taxi_ml_state.json', fs_options=fs_options)"
   ]
  },
  {
   "cell_type": "code",
   "execution_count": 6,
   "id": "2b3c4e27",
   "metadata": {
    "ExecuteTime": {
     "end_time": "2022-04-13T17:06:13.984230Z",
     "start_time": "2022-04-13T17:06:07.761982Z"
    }
   },
   "outputs": [
    {
     "data": {
      "text/html": [
       "<table>\n",
       "<thead>\n",
       "<tr><th>#                                      </th><th>vendor_id  </th><th>pickup_datetime              </th><th>dropoff_datetime             </th><th>passenger_count  </th><th>payment_type  </th><th>trip_distance  </th><th>pickup_longitude  </th><th>pickup_latitude  </th><th>rate_code  </th><th>store_and_fwd_flag  </th><th>dropoff_longitude  </th><th>dropoff_latitude  </th><th>fare_amount  </th><th>surcharge  </th><th>mta_tax  </th><th>tip_amount  </th><th>tolls_amount  </th><th>total_amount  </th><th>trip_duration_min  </th><th>trip_speed_mph    </th><th>pickup_time       </th><th>pickup_day  </th><th>pickup_is_weekend  </th><th>arc_distance  </th><th>direction_angle  </th><th>PCA_0        </th><th>PCA_1        </th><th>PCA_2        </th><th>PCA_3        </th><th>pickup_time_x     </th><th>pickup_time_y        </th><th>pickup_day_x       </th><th>pickup_day_y       </th><th>direction_angle_x  </th><th>direction_angle_y  </th><th>standard_scaled_arc_distance  </th><th>predicted_duration_min  </th><th>pred_final        </th></tr>\n",
       "</thead>\n",
       "<tbody>\n",
       "<tr><td><i style='opacity: 0.6'>0</i>          </td><td>VTS        </td><td>2015-01-15 19:05:39.000000000</td><td>2015-01-15 19:23:42.000000000</td><td>1                </td><td>1             </td><td>1.59           </td><td>-73.9939          </td><td>40.75011         </td><td>1.0        </td><td>0.0                 </td><td>-73.974785         </td><td>40.750618         </td><td>12.0         </td><td>1.0        </td><td>0.5      </td><td>3.25        </td><td>0.0           </td><td>17.05         </td><td>18.05              </td><td>5.285318670510585 </td><td>19.083333333333332</td><td>3           </td><td>0                  </td><td>1.3205364     </td><td>88.47933         </td><td>-0.009463026 </td><td>0.00962955   </td><td>0.0009385613 </td><td>-0.0042585577</td><td>0.279829014030992 </td><td>-0.9600498543859287  </td><td>-0.900968867902419 </td><td>0.43388373911755823</td><td>0.026537478        </td><td>0.9996478          </td><td>0.18589446                    </td><td>13.243260238548848      </td><td>13.243260238548848</td></tr>\n",
       "<tr><td><i style='opacity: 0.6'>1</i>          </td><td>CMT        </td><td>2015-01-10 20:33:38.000000000</td><td>2015-01-10 20:53:28.000000000</td><td>1                </td><td>1             </td><td>3.3            </td><td>-74.00165         </td><td>40.724243        </td><td>1.0        </td><td>0.0                 </td><td>-73.994415         </td><td>40.75911          </td><td>14.5         </td><td>0.5        </td><td>0.5      </td><td>2.0         </td><td>0.0           </td><td>17.8          </td><td>19.833333333333332 </td><td>9.983193133057666 </td><td>20.55             </td><td>5           </td><td>1                  </td><td>0.8311264     </td><td>11.719215        </td><td>-0.034722015 </td><td>7.998012e-05 </td><td>-0.0031515714</td><td>0.016735025  </td><td>0.619093949309834 </td><td>-0.785316930880745   </td><td>-0.2225209339563146</td><td>-0.9749279121818236</td><td>0.97915477         </td><td>0.20311569         </td><td>-0.36002454                   </td><td>10.521180965591727      </td><td>10.521180965591727</td></tr>\n",
       "<tr><td><i style='opacity: 0.6'>2</i>          </td><td>CMT        </td><td>2015-01-10 20:33:38.000000000</td><td>2015-01-10 20:43:41.000000000</td><td>1                </td><td>2             </td><td>1.8            </td><td>-73.96334         </td><td>40.802788        </td><td>1.0        </td><td>0.0                 </td><td>-73.95182          </td><td>40.824413         </td><td>9.5          </td><td>0.5        </td><td>0.5      </td><td>0.0         </td><td>0.0           </td><td>10.8          </td><td>10.05              </td><td>10.746268372037516</td><td>20.55             </td><td>5           </td><td>1                  </td><td>0.89671814    </td><td>28.045202        </td><td>0.05094445   </td><td>0.017341323  </td><td>0.074795686  </td><td>0.018506352  </td><td>0.619093949309834 </td><td>-0.785316930880745   </td><td>-0.2225209339563146</td><td>-0.9749279121818236</td><td>0.88257694         </td><td>0.47016802         </td><td>-0.28685933                   </td><td>8.98142024075389        </td><td>8.98142024075389  </td></tr>\n",
       "<tr><td><i style='opacity: 0.6'>3</i>          </td><td>CMT        </td><td>2015-01-10 20:33:39.000000000</td><td>2015-01-10 20:52:58.000000000</td><td>1                </td><td>2             </td><td>3.0            </td><td>-73.971176        </td><td>40.76243         </td><td>1.0        </td><td>0.0                 </td><td>-74.00418          </td><td>40.742653         </td><td>15.0         </td><td>0.5        </td><td>0.5      </td><td>0.0         </td><td>0.0           </td><td>16.3          </td><td>19.316666666666666 </td><td>9.318377911993098 </td><td>20.55             </td><td>5           </td><td>1                  </td><td>2.3113708     </td><td>-120.928696      </td><td>0.014120486  </td><td>-0.0009419392</td><td>-0.022247035 </td><td>0.015489833  </td><td>0.619093949309834 </td><td>-0.785316930880745   </td><td>-0.2225209339563146</td><td>-0.9749279121818236</td><td>-0.5139711         </td><td>-0.8578075         </td><td>1.2911342                     </td><td>15.954830808893831      </td><td>15.954830808893831</td></tr>\n",
       "<tr><td><i style='opacity: 0.6'>4</i>          </td><td>CMT        </td><td>2015-01-10 20:33:39.000000000</td><td>2015-01-10 20:58:31.000000000</td><td>1                </td><td>2             </td><td>2.2            </td><td>-73.98328         </td><td>40.72601         </td><td>1.0        </td><td>0.0                 </td><td>-73.99247          </td><td>40.749634         </td><td>14.0         </td><td>0.5        </td><td>0.5      </td><td>0.0         </td><td>0.0           </td><td>15.3          </td><td>24.866666666666667 </td><td>5.308311107011646 </td><td>20.55             </td><td>5           </td><td>1                  </td><td>0.7786042     </td><td>-21.26345        </td><td>-0.022162506 </td><td>-0.013443824 </td><td>-0.009868959 </td><td>0.009774372  </td><td>0.619093949309834 </td><td>-0.785316930880745   </td><td>-0.2225209339563146</td><td>-0.9749279121818236</td><td>0.93192273         </td><td>-0.36265683        </td><td>-0.41861114                   </td><td>10.188928459050407      </td><td>10.188928459050407</td></tr>\n",
       "<tr><td>...                                    </td><td>...        </td><td>...                          </td><td>...                          </td><td>...              </td><td>...           </td><td>...            </td><td>...               </td><td>...              </td><td>...        </td><td>...                 </td><td>...                </td><td>...               </td><td>...          </td><td>...        </td><td>...      </td><td>...         </td><td>...           </td><td>...           </td><td>...                </td><td>...               </td><td>...               </td><td>...         </td><td>...                </td><td>...           </td><td>...              </td><td>...          </td><td>...          </td><td>...          </td><td>...          </td><td>...               </td><td>...                  </td><td>...                </td><td>...                </td><td>...                </td><td>...                </td><td>...                           </td><td>...                     </td><td>...               </td></tr>\n",
       "<tr><td><i style='opacity: 0.6'>114,684,110</i></td><td>VTS        </td><td>2015-12-31 23:59:56.000000000</td><td>2016-01-01 00:08:18.000000000</td><td>5                </td><td>1             </td><td>1.2            </td><td>-73.99381         </td><td>40.72087         </td><td>1.0        </td><td>0.0                 </td><td>-73.98621          </td><td>40.72247          </td><td>7.5          </td><td>0.5        </td><td>0.5      </td><td>1.76        </td><td>0.0           </td><td>10.56         </td><td>8.366666666666667  </td><td>8.605578031197961 </td><td>23.983333333333334</td><td>3           </td><td>0                  </td><td>0.5259203     </td><td>78.12149         </td><td>-0.03264316  </td><td>-0.008193069 </td><td>-0.028742317 </td><td>-0.010740086 </td><td>0.9999904807207345</td><td>-0.004363309284746544</td><td>-0.900968867902419 </td><td>0.43388373911755823</td><td>0.20583715         </td><td>0.97858626         </td><td>-0.70047086                   </td><td>8.600918589581578       </td><td>8.600918589581578 </td></tr>\n",
       "<tr><td><i style='opacity: 0.6'>114,684,111</i></td><td>CMT        </td><td>2015-12-31 23:59:58.000000000</td><td>2016-01-01 00:05:19.000000000</td><td>2                </td><td>2             </td><td>2.0            </td><td>-73.96527         </td><td>40.76028         </td><td>1.0        </td><td>0.0                 </td><td>-73.939514         </td><td>40.752388         </td><td>7.5          </td><td>0.5        </td><td>0.5      </td><td>0.0         </td><td>0.0           </td><td>8.8           </td><td>5.35               </td><td>22.429906542056074</td><td>23.983333333333334</td><td>3           </td><td>0                  </td><td>1.7860186     </td><td>107.036514       </td><td>0.01600008   </td><td>-0.006937808 </td><td>0.022333903  </td><td>-0.032354712 </td><td>0.9999904807207345</td><td>-0.004363309284746544</td><td>-0.900968867902419 </td><td>0.43388373911755823</td><td>-0.29298112        </td><td>0.9561182          </td><td>0.70512295                    </td><td>11.928962449936897      </td><td>11.928962449936897</td></tr>\n",
       "<tr><td><i style='opacity: 0.6'>114,684,112</i></td><td>CMT        </td><td>2015-12-31 23:59:59.000000000</td><td>2016-01-01 00:12:55.000000000</td><td>2                </td><td>2             </td><td>3.8            </td><td>-73.9873          </td><td>40.73908         </td><td>1.0        </td><td>0.0                 </td><td>-73.98867          </td><td>40.6933           </td><td>13.5         </td><td>0.5        </td><td>0.5      </td><td>0.0         </td><td>0.0           </td><td>14.8          </td><td>12.933333333333334 </td><td>17.628865758168327</td><td>23.983333333333334</td><td>3           </td><td>0                  </td><td>0.8776615     </td><td>-178.28178       </td><td>-0.0142205665</td><td>-0.0023130435</td><td>-0.054195464 </td><td>-0.025201043 </td><td>0.9999904807207345</td><td>-0.004363309284746544</td><td>-0.900968867902419 </td><td>0.43388373911755823</td><td>-0.9995504         </td><td>-0.029983945       </td><td>-0.30811632                   </td><td>10.337722683373048      </td><td>10.337722683373048</td></tr>\n",
       "<tr><td><i style='opacity: 0.6'>114,684,113</i></td><td>VTS        </td><td>2015-12-31 23:59:59.000000000</td><td>2016-01-01 00:10:26.000000000</td><td>1                </td><td>2             </td><td>1.96           </td><td>-73.99756         </td><td>40.725693        </td><td>1.0        </td><td>0.0                 </td><td>-74.01712          </td><td>40.705322         </td><td>8.5          </td><td>0.5        </td><td>0.5      </td><td>0.0         </td><td>0.0           </td><td>9.8           </td><td>10.45              </td><td>11.253588735772093</td><td>23.983333333333334</td><td>3           </td><td>0                  </td><td>1.4061307     </td><td>-136.1602        </td><td>-0.031087026 </td><td>-0.0022887718</td><td>-0.0603564   </td><td>0.005064793  </td><td>0.9999904807207345</td><td>-0.004363309284746544</td><td>-0.900968867902419 </td><td>0.43388373911755823</td><td>-0.72127926        </td><td>-0.69264436        </td><td>0.28137177                    </td><td>12.76441980356352       </td><td>12.76441980356352 </td></tr>\n",
       "<tr><td><i style='opacity: 0.6'>114,684,114</i></td><td>VTS        </td><td>2015-12-31 23:59:59.000000000</td><td>2016-01-01 00:21:30.000000000</td><td>1                </td><td>1             </td><td>1.06           </td><td>-73.9844          </td><td>40.767258        </td><td>1.0        </td><td>0.0                 </td><td>-73.99098          </td><td>40.76057          </td><td>13.5         </td><td>0.5        </td><td>0.5      </td><td>2.96        </td><td>0.0           </td><td>17.76         </td><td>21.516666666666666 </td><td>2.9558480201443436</td><td>23.983333333333334</td><td>3           </td><td>0                  </td><td>0.47244325    </td><td>-135.44466       </td><td>0.009928504  </td><td>0.012495505  </td><td>-5.817972e-06</td><td>0.014728563  </td><td>0.9999904807207345</td><td>-0.004363309284746544</td><td>-0.900968867902419 </td><td>0.43388373911755823</td><td>-0.7125731         </td><td>-0.70159787        </td><td>-0.76012254                   </td><td>8.356412714850215       </td><td>8.356412714850215 </td></tr>\n",
       "</tbody>\n",
       "</table>"
      ],
      "text/plain": [
       "#            vendor_id    pickup_datetime                dropoff_datetime               passenger_count    payment_type    trip_distance    pickup_longitude    pickup_latitude    rate_code    store_and_fwd_flag    dropoff_longitude    dropoff_latitude    fare_amount    surcharge    mta_tax    tip_amount    tolls_amount    total_amount    trip_duration_min    trip_speed_mph      pickup_time         pickup_day    pickup_is_weekend    arc_distance    direction_angle    PCA_0          PCA_1          PCA_2          PCA_3          pickup_time_x       pickup_time_y          pickup_day_x         pickup_day_y         direction_angle_x    direction_angle_y    standard_scaled_arc_distance    predicted_duration_min    pred_final\n",
       "0            VTS          2015-01-15 19:05:39.000000000  2015-01-15 19:23:42.000000000  1                  1               1.59             -73.9939            40.75011           1.0          0.0                   -73.974785           40.750618           12.0           1.0          0.5        3.25          0.0             17.05           18.05                5.285318670510585   19.083333333333332  3             0                    1.3205364       88.47933           -0.009463026   0.00962955     0.0009385613   -0.0042585577  0.279829014030992   -0.9600498543859287    -0.900968867902419   0.43388373911755823  0.026537478          0.9996478            0.18589446                      13.243260238548848        13.243260238548848\n",
       "1            CMT          2015-01-10 20:33:38.000000000  2015-01-10 20:53:28.000000000  1                  1               3.3              -74.00165           40.724243          1.0          0.0                   -73.994415           40.75911            14.5           0.5          0.5        2.0           0.0             17.8            19.833333333333332   9.983193133057666   20.55               5             1                    0.8311264       11.719215          -0.034722015   7.998012e-05   -0.0031515714  0.016735025    0.619093949309834   -0.785316930880745     -0.2225209339563146  -0.9749279121818236  0.97915477           0.20311569           -0.36002454                     10.521180965591727        10.521180965591727\n",
       "2            CMT          2015-01-10 20:33:38.000000000  2015-01-10 20:43:41.000000000  1                  2               1.8              -73.96334           40.802788          1.0          0.0                   -73.95182            40.824413           9.5            0.5          0.5        0.0           0.0             10.8            10.05                10.746268372037516  20.55               5             1                    0.89671814      28.045202          0.05094445     0.017341323    0.074795686    0.018506352    0.619093949309834   -0.785316930880745     -0.2225209339563146  -0.9749279121818236  0.88257694           0.47016802           -0.28685933                     8.98142024075389          8.98142024075389\n",
       "3            CMT          2015-01-10 20:33:39.000000000  2015-01-10 20:52:58.000000000  1                  2               3.0              -73.971176          40.76243           1.0          0.0                   -74.00418            40.742653           15.0           0.5          0.5        0.0           0.0             16.3            19.316666666666666   9.318377911993098   20.55               5             1                    2.3113708       -120.928696        0.014120486    -0.0009419392  -0.022247035   0.015489833    0.619093949309834   -0.785316930880745     -0.2225209339563146  -0.9749279121818236  -0.5139711           -0.8578075           1.2911342                       15.954830808893831        15.954830808893831\n",
       "4            CMT          2015-01-10 20:33:39.000000000  2015-01-10 20:58:31.000000000  1                  2               2.2              -73.98328           40.72601           1.0          0.0                   -73.99247            40.749634           14.0           0.5          0.5        0.0           0.0             15.3            24.866666666666667   5.308311107011646   20.55               5             1                    0.7786042       -21.26345          -0.022162506   -0.013443824   -0.009868959   0.009774372    0.619093949309834   -0.785316930880745     -0.2225209339563146  -0.9749279121818236  0.93192273           -0.36265683          -0.41861114                     10.188928459050407        10.188928459050407\n",
       "...          ...          ...                            ...                            ...                ...             ...              ...                 ...                ...          ...                   ...                  ...                 ...            ...          ...        ...           ...             ...             ...                  ...                 ...                 ...           ...                  ...             ...                ...            ...            ...            ...            ...                 ...                    ...                  ...                  ...                  ...                  ...                             ...                       ...\n",
       "114,684,110  VTS          2015-12-31 23:59:56.000000000  2016-01-01 00:08:18.000000000  5                  1               1.2              -73.99381           40.72087           1.0          0.0                   -73.98621            40.72247            7.5            0.5          0.5        1.76          0.0             10.56           8.366666666666667    8.605578031197961   23.983333333333334  3             0                    0.5259203       78.12149           -0.03264316    -0.008193069   -0.028742317   -0.010740086   0.9999904807207345  -0.004363309284746544  -0.900968867902419   0.43388373911755823  0.20583715           0.97858626           -0.70047086                     8.600918589581578         8.600918589581578\n",
       "114,684,111  CMT          2015-12-31 23:59:58.000000000  2016-01-01 00:05:19.000000000  2                  2               2.0              -73.96527           40.76028           1.0          0.0                   -73.939514           40.752388           7.5            0.5          0.5        0.0           0.0             8.8             5.35                 22.429906542056074  23.983333333333334  3             0                    1.7860186       107.036514         0.01600008     -0.006937808   0.022333903    -0.032354712   0.9999904807207345  -0.004363309284746544  -0.900968867902419   0.43388373911755823  -0.29298112          0.9561182            0.70512295                      11.928962449936897        11.928962449936897\n",
       "114,684,112  CMT          2015-12-31 23:59:59.000000000  2016-01-01 00:12:55.000000000  2                  2               3.8              -73.9873            40.73908           1.0          0.0                   -73.98867            40.6933             13.5           0.5          0.5        0.0           0.0             14.8            12.933333333333334   17.628865758168327  23.983333333333334  3             0                    0.8776615       -178.28178         -0.0142205665  -0.0023130435  -0.054195464   -0.025201043   0.9999904807207345  -0.004363309284746544  -0.900968867902419   0.43388373911755823  -0.9995504           -0.029983945         -0.30811632                     10.337722683373048        10.337722683373048\n",
       "114,684,113  VTS          2015-12-31 23:59:59.000000000  2016-01-01 00:10:26.000000000  1                  2               1.96             -73.99756           40.725693          1.0          0.0                   -74.01712            40.705322           8.5            0.5          0.5        0.0           0.0             9.8             10.45                11.253588735772093  23.983333333333334  3             0                    1.4061307       -136.1602          -0.031087026   -0.0022887718  -0.0603564     0.005064793    0.9999904807207345  -0.004363309284746544  -0.900968867902419   0.43388373911755823  -0.72127926          -0.69264436          0.28137177                      12.76441980356352         12.76441980356352\n",
       "114,684,114  VTS          2015-12-31 23:59:59.000000000  2016-01-01 00:21:30.000000000  1                  1               1.06             -73.9844            40.767258          1.0          0.0                   -73.99098            40.76057            13.5           0.5          0.5        2.96          0.0             17.76           21.516666666666666   2.9558480201443436  23.983333333333334  3             0                    0.47244325      -135.44466         0.009928504    0.012495505    -5.817972e-06  0.014728563    0.9999904807207345  -0.004363309284746544  -0.900968867902419   0.43388373911755823  -0.7125731           -0.70159787          -0.76012254                     8.356412714850215         8.356412714850215"
      ]
     },
     "execution_count": 6,
     "metadata": {},
     "output_type": "execute_result"
    }
   ],
   "source": [
    "df_test"
   ]
  },
  {
   "cell_type": "markdown",
   "id": "105fef52",
   "metadata": {},
   "source": [
    "### Check metrics"
   ]
  },
  {
   "cell_type": "code",
   "execution_count": 7,
   "id": "fdc0fd9a",
   "metadata": {
    "ExecuteTime": {
     "end_time": "2022-04-13T17:07:02.492246Z",
     "start_time": "2022-04-13T17:06:34.661862Z"
    }
   },
   "outputs": [
    {
     "name": "stdout",
     "output_type": "stream",
     "text": [
      "Mean absolute error: 3.584379318840206\n"
     ]
    }
   ],
   "source": [
    "# See metrics\n",
    "print('Mean absolute error:', df_test.ml.metrics.mean_absolute_error('trip_duration_min', 'pred_final'))"
   ]
  },
  {
   "cell_type": "markdown",
   "id": "4af80dcc",
   "metadata": {},
   "source": [
    "### What about production?"
   ]
  },
  {
   "cell_type": "code",
   "execution_count": 8,
   "id": "5205a855",
   "metadata": {
    "ExecuteTime": {
     "end_time": "2022-04-13T17:07:45.195026Z",
     "start_time": "2022-04-13T17:07:44.132584Z"
    }
   },
   "outputs": [
    {
     "name": "stdout",
     "output_type": "stream",
     "text": [
      "Number of samples in the test set in \"production mode\" is 146,112,990.\n"
     ]
    }
   ],
   "source": [
    "df_test = df[1_026_944_937:]\n",
    "\n",
    "fs_options = {'token': '/home/jovan/.keys/vaex-282913-a6370a7624ec.json', 'cache': False}\n",
    "df_test.state_load('gs://vaex-data/demo/taxi_ml_state.json', fs_options=fs_options)\n",
    "\n",
    "# Set the \"production\" variable to True\n",
    "df_test.variables['production'] = True\n",
    "\n",
    "print(f'Number of samples in the test set in \"production mode\" is {len(df_test):,}.')"
   ]
  },
  {
   "cell_type": "markdown",
   "id": "8dcfe6a7",
   "metadata": {},
   "source": [
    "Be careful however..."
   ]
  },
  {
   "cell_type": "code",
   "execution_count": 9,
   "id": "f8b95425",
   "metadata": {
    "ExecuteTime": {
     "end_time": "2022-04-13T17:07:53.844673Z",
     "start_time": "2022-04-13T17:07:52.437866Z"
    }
   },
   "outputs": [
    {
     "data": {
      "text/html": [
       "<table>\n",
       "<thead>\n",
       "<tr><th>#                                      </th><th>PCA_0        </th><th>PCA_1         </th><th>PCA_2        </th><th>PCA_3        </th><th>standard_scaled_arc_distance  </th><th>pickup_time_x      </th><th>pickup_day_x       </th><th>direction_angle_x  </th><th>pickup_time_y        </th><th>pickup_day_y       </th><th>direction_angle_y  </th><th>pickup_is_weekend  </th></tr>\n",
       "</thead>\n",
       "<tbody>\n",
       "<tr><td><i style='opacity: 0.6'>0</i>          </td><td>-0.038689442 </td><td>0.00024529733 </td><td>0.01138061   </td><td>-0.0029030032</td><td>nan                           </td><td>0.10018806161207608</td><td>1.0                </td><td>nan                </td><td>-0.9949685182509117  </td><td>0.0                </td><td>nan                </td><td>0                  </td></tr>\n",
       "<tr><td><i style='opacity: 0.6'>1</i>          </td><td>-0.009463026 </td><td>0.00962955    </td><td>0.0009385613 </td><td>-0.0042585577</td><td>0.18589446                    </td><td>0.279829014030992  </td><td>-0.900968867902419 </td><td>0.026537478        </td><td>-0.9600498543859287  </td><td>0.43388373911755823</td><td>0.9996478          </td><td>0                  </td></tr>\n",
       "<tr><td><i style='opacity: 0.6'>2</i>          </td><td>-0.034722015 </td><td>7.998012e-05  </td><td>-0.0031515714</td><td>0.016735025  </td><td>-0.36002454                   </td><td>0.619093949309834  </td><td>-0.2225209339563146</td><td>0.97915477         </td><td>-0.785316930880745   </td><td>-0.9749279121818236</td><td>0.20311569         </td><td>1                  </td></tr>\n",
       "<tr><td><i style='opacity: 0.6'>3</i>          </td><td>0.05094445   </td><td>0.017341323   </td><td>0.074795686  </td><td>0.018506352  </td><td>-0.28685933                   </td><td>0.619093949309834  </td><td>-0.2225209339563146</td><td>0.88257694         </td><td>-0.785316930880745   </td><td>-0.9749279121818236</td><td>0.47016802         </td><td>1                  </td></tr>\n",
       "<tr><td><i style='opacity: 0.6'>4</i>          </td><td>-0.047522366 </td><td>-0.00034094043</td><td>-0.041028067 </td><td>0.0027979594 </td><td>-0.89751655                   </td><td>0.619093949309834  </td><td>-0.2225209339563146</td><td>0.79164016         </td><td>-0.785316930880745   </td><td>-0.9749279121818236</td><td>0.6109876          </td><td>1                  </td></tr>\n",
       "<tr><td>...                                    </td><td>...          </td><td>...           </td><td>...          </td><td>...          </td><td>...                           </td><td>...                </td><td>...                </td><td>...                </td><td>...                  </td><td>...                </td><td>...                </td><td>...                </td></tr>\n",
       "<tr><td><i style='opacity: 0.6'>146,112,985</i></td><td>-0.03264316  </td><td>-0.008193069  </td><td>-0.028742317 </td><td>-0.010740086 </td><td>-0.70047086                   </td><td>0.9999904807207345 </td><td>-0.900968867902419 </td><td>0.20583715         </td><td>-0.004363309284746544</td><td>0.43388373911755823</td><td>0.97858626         </td><td>0                  </td></tr>\n",
       "<tr><td><i style='opacity: 0.6'>146,112,986</i></td><td>0.01600008   </td><td>-0.006937808  </td><td>0.022333903  </td><td>-0.032354712 </td><td>0.70512295                    </td><td>0.9999904807207345 </td><td>-0.900968867902419 </td><td>-0.29298112        </td><td>-0.004363309284746544</td><td>0.43388373911755823</td><td>0.9561182          </td><td>0                  </td></tr>\n",
       "<tr><td><i style='opacity: 0.6'>146,112,987</i></td><td>-0.0142205665</td><td>-0.0023130435 </td><td>-0.054195464 </td><td>-0.025201043 </td><td>-0.30811632                   </td><td>0.9999904807207345 </td><td>-0.900968867902419 </td><td>-0.9995504         </td><td>-0.004363309284746544</td><td>0.43388373911755823</td><td>-0.029983945       </td><td>0                  </td></tr>\n",
       "<tr><td><i style='opacity: 0.6'>146,112,988</i></td><td>-0.031087026 </td><td>-0.0022887718 </td><td>-0.0603564   </td><td>0.005064793  </td><td>0.28137177                    </td><td>0.9999904807207345 </td><td>-0.900968867902419 </td><td>-0.72127926        </td><td>-0.004363309284746544</td><td>0.43388373911755823</td><td>-0.69264436        </td><td>0                  </td></tr>\n",
       "<tr><td><i style='opacity: 0.6'>146,112,989</i></td><td>0.009928504  </td><td>0.012495505   </td><td>-5.817972e-06</td><td>0.014728563  </td><td>-0.76012254                   </td><td>0.9999904807207345 </td><td>-0.900968867902419 </td><td>-0.7125731         </td><td>-0.004363309284746544</td><td>0.43388373911755823</td><td>-0.70159787        </td><td>0                  </td></tr>\n",
       "</tbody>\n",
       "</table>"
      ],
      "text/plain": [
       "#            PCA_0          PCA_1           PCA_2          PCA_3          standard_scaled_arc_distance    pickup_time_x        pickup_day_x         direction_angle_x    pickup_time_y          pickup_day_y         direction_angle_y    pickup_is_weekend\n",
       "0            -0.038689442   0.00024529733   0.01138061     -0.0029030032  nan                             0.10018806161207608  1.0                  nan                  -0.9949685182509117    0.0                  nan                  0\n",
       "1            -0.009463026   0.00962955      0.0009385613   -0.0042585577  0.18589446                      0.279829014030992    -0.900968867902419   0.026537478          -0.9600498543859287    0.43388373911755823  0.9996478            0\n",
       "2            -0.034722015   7.998012e-05    -0.0031515714  0.016735025    -0.36002454                     0.619093949309834    -0.2225209339563146  0.97915477           -0.785316930880745     -0.9749279121818236  0.20311569           1\n",
       "3            0.05094445     0.017341323     0.074795686    0.018506352    -0.28685933                     0.619093949309834    -0.2225209339563146  0.88257694           -0.785316930880745     -0.9749279121818236  0.47016802           1\n",
       "4            -0.047522366   -0.00034094043  -0.041028067   0.0027979594   -0.89751655                     0.619093949309834    -0.2225209339563146  0.79164016           -0.785316930880745     -0.9749279121818236  0.6109876            1\n",
       "...          ...            ...             ...            ...            ...                             ...                  ...                  ...                  ...                    ...                  ...                  ...\n",
       "146,112,985  -0.03264316    -0.008193069    -0.028742317   -0.010740086   -0.70047086                     0.9999904807207345   -0.900968867902419   0.20583715           -0.004363309284746544  0.43388373911755823  0.97858626           0\n",
       "146,112,986  0.01600008     -0.006937808    0.022333903    -0.032354712   0.70512295                      0.9999904807207345   -0.900968867902419   -0.29298112          -0.004363309284746544  0.43388373911755823  0.9561182            0\n",
       "146,112,987  -0.0142205665  -0.0023130435   -0.054195464   -0.025201043   -0.30811632                     0.9999904807207345   -0.900968867902419   -0.9995504           -0.004363309284746544  0.43388373911755823  -0.029983945         0\n",
       "146,112,988  -0.031087026   -0.0022887718   -0.0603564     0.005064793    0.28137177                      0.9999904807207345   -0.900968867902419   -0.72127926          -0.004363309284746544  0.43388373911755823  -0.69264436          0\n",
       "146,112,989  0.009928504    0.012495505     -5.817972e-06  0.014728563    -0.76012254                     0.9999904807207345   -0.900968867902419   -0.7125731           -0.004363309284746544  0.43388373911755823  -0.70159787          0"
      ]
     },
     "execution_count": 9,
     "metadata": {},
     "output_type": "execute_result"
    }
   ],
   "source": [
    "features = ['PCA_0',\n",
    "            'PCA_1',\n",
    "            'PCA_2',\n",
    "            'PCA_3',\n",
    "            'standard_scaled_arc_distance',\n",
    "            'pickup_time_x',\n",
    "            'pickup_day_x',\n",
    "            'direction_angle_x',\n",
    "            'pickup_time_y',\n",
    "            'pickup_day_y',\n",
    "            'direction_angle_y',\n",
    "            'pickup_is_weekend']\n",
    "\n",
    "\n",
    "df_test[features]"
   ]
  }
 ],
 "metadata": {
  "kernelspec": {
   "display_name": "Python 3 (ipykernel)",
   "language": "python",
   "name": "python3"
  },
  "language_info": {
   "codemirror_mode": {
    "name": "ipython",
    "version": 3
   },
   "file_extension": ".py",
   "mimetype": "text/x-python",
   "name": "python",
   "nbconvert_exporter": "python",
   "pygments_lexer": "ipython3",
   "version": "3.8.12"
  }
 },
 "nbformat": 4,
 "nbformat_minor": 5
}
